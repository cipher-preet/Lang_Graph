{
 "cells": [
  {
   "cell_type": "code",
   "execution_count": 60,
   "id": "8f72c160",
   "metadata": {},
   "outputs": [],
   "source": [
    "def function1(input1):\n",
    "    return input1 * \"from first function\""
   ]
  },
  {
   "cell_type": "code",
   "execution_count": 61,
   "id": "dbb21566",
   "metadata": {},
   "outputs": [],
   "source": [
    "def function2(input2):\n",
    "    return input2 * \"from second function\""
   ]
  },
  {
   "cell_type": "code",
   "execution_count": 62,
   "id": "b2bf3307",
   "metadata": {},
   "outputs": [],
   "source": [
    "# %pip install langgraph"
   ]
  },
  {
   "cell_type": "code",
   "execution_count": 63,
   "id": "c1eac55a",
   "metadata": {},
   "outputs": [],
   "source": [
    "from langgraph.graph import StateGraph"
   ]
  },
  {
   "cell_type": "code",
   "execution_count": 64,
   "id": "d84140d4",
   "metadata": {},
   "outputs": [],
   "source": [
    "\n",
    "class MyState(dict): pass\n",
    "\n",
    "from langgraph.graph import StateGraph\n",
    "workflow = StateGraph(MyState)\n"
   ]
  },
  {
   "cell_type": "code",
   "execution_count": 65,
   "id": "34335d4b",
   "metadata": {},
   "outputs": [
    {
     "data": {
      "text/plain": [
       "<langgraph.graph.state.StateGraph at 0x2634ced3940>"
      ]
     },
     "execution_count": 65,
     "metadata": {},
     "output_type": "execute_result"
    }
   ],
   "source": [
    "workflow.add_node(\"function1\", function1)\n"
   ]
  },
  {
   "cell_type": "code",
   "execution_count": 66,
   "id": "634e5747",
   "metadata": {},
   "outputs": [
    {
     "data": {
      "text/plain": [
       "<langgraph.graph.state.StateGraph at 0x2634ced3940>"
      ]
     },
     "execution_count": 66,
     "metadata": {},
     "output_type": "execute_result"
    }
   ],
   "source": [
    "workflow.add_node(\"function2\", function2)\n"
   ]
  },
  {
   "cell_type": "code",
   "execution_count": 67,
   "id": "a1c88fa0",
   "metadata": {},
   "outputs": [
    {
     "data": {
      "text/plain": [
       "<langgraph.graph.state.StateGraph at 0x2634ced3940>"
      ]
     },
     "execution_count": 67,
     "metadata": {},
     "output_type": "execute_result"
    }
   ],
   "source": [
    "workflow.set_entry_point(\"function1\")"
   ]
  },
  {
   "cell_type": "code",
   "execution_count": 68,
   "id": "12feaeb6",
   "metadata": {},
   "outputs": [
    {
     "data": {
      "text/plain": [
       "<langgraph.graph.state.StateGraph at 0x2634ced3940>"
      ]
     },
     "execution_count": 68,
     "metadata": {},
     "output_type": "execute_result"
    }
   ],
   "source": [
    "workflow.set_finish_point(\"function2\")"
   ]
  },
  {
   "cell_type": "code",
   "execution_count": 69,
   "id": "25730c1a",
   "metadata": {},
   "outputs": [],
   "source": [
    "app1=workflow.compile()\n"
   ]
  },
  {
   "cell_type": "code",
   "execution_count": 70,
   "id": "5cb7e73a",
   "metadata": {},
   "outputs": [
    {
     "data": {
      "image/png": "[encoded data removed]",
      "text/plain": [
       "<IPython.core.display.Image object>"
      ]
     },
     "metadata": {},
     "output_type": "display_data"
    }
   ],
   "source": [
    "from IPython.display import Image, display\n",
    "\n",
    "try:\n",
    "    display(Image(app1.get_graph().draw_mermaid_png()))\n",
    "except Exception as e:\n",
    "    print(e)"
   ]
  },
  {
   "cell_type": "code",
   "execution_count": 71,
   "id": "bea1c47e",
   "metadata": {},
   "outputs": [],
   "source": [
    "# for output in app1.stream(input):\n",
    "#     for key,value in output.items():\n",
    "#         print(f\"here is output from {key}\")\n",
    "#         print(\"_______\")\n",
    "#         print(value)\n",
    "#         print(\"\\n\")\n"
   ]
  },
  {
   "cell_type": "code",
   "execution_count": 72,
   "id": "8dc3ed03",
   "metadata": {},
   "outputs": [],
   "source": [
    "from langchain_google_genai import GoogleGenerativeAIEmbeddings\n",
    "embeddings = GoogleGenerativeAIEmbeddings(model=\"models/embedding-001\")"
   ]
  },
  {
   "cell_type": "code",
   "execution_count": 73,
   "id": "acfa9334",
   "metadata": {},
   "outputs": [],
   "source": [
    "from langchain_google_genai import ChatGoogleGenerativeAI\n",
    "llm = ChatGoogleGenerativeAI(model=\"gemini-2.5-flash\")"
   ]
  },
  {
   "cell_type": "code",
   "execution_count": 74,
   "id": "9d26bafc",
   "metadata": {},
   "outputs": [
    {
     "data": {
      "text/plain": [
       "'Hello! How can I help you today?'"
      ]
     },
     "execution_count": 74,
     "metadata": {},
     "output_type": "execute_result"
    }
   ],
   "source": [
    "llm.invoke(\"hi\").content\n"
   ]
  },
  {
   "cell_type": "code",
   "execution_count": 75,
   "id": "036b39e9",
   "metadata": {},
   "outputs": [],
   "source": [
    "from langchain_core.output_parsers import StrOutputParser\n",
    "from langchain_core.prompts import ChatPromptTemplate\n",
    "from langchain_core.runnables import RunnablePassthrough\n",
    "from langchain_community.document_loaders import TextLoader, DirectoryLoader\n",
    "from langchain_community.vectorstores import Chroma\n",
    "from langchain.text_splitter import RecursiveCharacterTextSplitter"
   ]
  },
  {
   "cell_type": "code",
   "execution_count": 76,
   "id": "e404ab50",
   "metadata": {},
   "outputs": [],
   "source": [
    "docs = \"\"\"\n",
    "Cricket is a bat-and-ball game that is played between two teams of eleven players on a field, at the centre of which is a 22-yard (20-metre; 66-foot) pitch with a wicket at each end, each comprising two bails (small sticks) balanced on three stumps. Two players from the batting team, the striker and nonstriker, stand in front of either wicket holding bats, while one player from the fielding team, the bowler, bowls the ball toward the striker's wicket from the opposite end of the pitch. The striker's goal is to hit the bowled ball with the bat and then switch places with the nonstriker, with the batting team scoring one run for each of these swaps. Runs are also scored when the ball reaches the boundary of the field or when the ball is bowled illegally.\n",
    "\n",
    "The fielding team aims to prevent runs by dismissing batters (so they are \"out\"). Dismissal can occur in various ways, including being bowled (when the ball hits the striker's wicket and dislodges the bails), and by the fielding side either catching the ball after it is hit by the bat but before it hits the ground, or hitting a wicket with the ball before a batter can cross the crease line in front of the wicket. When ten batters have been dismissed, the innings (playing phase) ends and the teams swap roles. Forms of cricket range from traditional Test matches played over five days to the newer Twenty20 format (also known as T20), in which each team bats for a single innings of 20 overs (each \"over\" being a set of 6 fair opportunities for the batting team to score) and the game generally lasts three to four hours.\n",
    "\n",
    "Traditionally, cricketers play in all-white kit, but in limited overs cricket, they wear club or team colours. In addition to the basic kit, some players wear protective gear to prevent injury caused by the ball, which is a hard, solid spheroid made of compressed leather with a slightly raised sewn seam enclosing a cork core layered with tightly wound string.\n",
    "\n",
    "The earliest known definite reference to cricket is to it being played in South East England in the mid-16th century. It spread globally with the expansion of the British Empire, with the first international matches in the second half of the 19th century. The game's governing body is the International Cricket Council (ICC), which has over 100 members, twelve of which are full members who play Test matches. The game's rules, the Laws of Cricket, are maintained by Marylebone Cricket Club (MCC) in London. The sport is followed primarily in South Asia, Australia, New Zealand, the United Kingdom, Southern Africa, and the West Indies.[2]\n",
    "\n",
    "While traditionally, cricket has largely been played by men, Women's cricket has experienced large growth in the 21st century.[3]\n",
    "\n",
    "The most successful side playing international cricket is Australia, which has won eight One Day International trophies, including six World Cups, more than any other country, and has been the top-rated Test side more than any other country.[4][\n",
    "\"\"\""
   ]
  },
  {
   "cell_type": "code",
   "execution_count": 77,
   "id": "61f51a9f",
   "metadata": {},
   "outputs": [],
   "source": [
    "loader=DirectoryLoader(\"../langgraph_from_scratch/data\", glob=\"./*.txt\",loader_cls=TextLoader)\n",
    "docs=loader.load()\n",
    "text_splitter=RecursiveCharacterTextSplitter(\n",
    "    chunk_size=100,\n",
    "    chunk_overlap=50\n",
    ")\n",
    "new_docs = text_splitter.split_documents(documents=docs)\n",
    "doc_strings = [doc.page_content for doc in new_docs]"
   ]
  },
  {
   "cell_type": "code",
   "execution_count": 78,
   "id": "d478d0e2",
   "metadata": {},
   "outputs": [],
   "source": [
    "# %pip install chromadb"
   ]
  },
  {
   "cell_type": "code",
   "execution_count": 79,
   "id": "c0975e13",
   "metadata": {},
   "outputs": [],
   "source": [
    "db = Chroma.from_documents(new_docs, embeddings)\n",
    "\n",
    "retriever = db.as_retriever(search_kwargs={\"k\": 3})"
   ]
  },
  {
   "cell_type": "code",
   "execution_count": 80,
   "id": "0ec163cb",
   "metadata": {},
   "outputs": [
    {
     "name": "stdout",
     "output_type": "stream",
     "text": [
      "{'source': '..\\\\langgraph_from_scratch\\\\data\\\\llama3.txt'}\n",
      "Cricket is a bat-and-ball game that is played between two teams of eleven players on a field, at the\n",
      "page_content='Cricket is a bat-and-ball game that is played between two teams of eleven players on a field, at the' metadata={'source': '..\\\\langgraph_from_scratch\\\\data\\\\llama3.txt'}\n",
      "page_content='Cricket is a bat-and-ball game that is played between two teams of eleven players on a field, at the' metadata={'source': '..\\\\langgraph_from_scratch\\\\data\\\\llama3.txt'}\n",
      "page_content='Cricket is a bat-and-ball game that is played between two teams of eleven players on a field, at the' metadata={'source': '..\\\\langgraph_from_scratch\\\\data\\\\llama3.txt'}\n"
     ]
    }
   ],
   "source": [
    "query = \"what is cricket\"\n",
    "docs = retriever.get_relevant_documents(query)\n",
    "print(docs[0].metadata)\n",
    "print(docs[0].page_content)\n",
    "\n",
    "for doc in docs:\n",
    "    print(doc)"
   ]
  },
  {
   "cell_type": "code",
   "execution_count": 81,
   "id": "c63145c5",
   "metadata": {},
   "outputs": [],
   "source": [
    "def function_1(AgentState):\n",
    "    \n",
    "    message=AgentState[\"messages\"]\n",
    "    \n",
    "    question=message[-1]\n",
    "    \n",
    "    complete_prompt=\"Your task is to provide only the brief answer based on the user query. \\\n",
    "        Don't include too much reasoning. Following is the user query: \" + question\n",
    "    \n",
    "    response = llm.invoke(complete_prompt)\n",
    "    \n",
    "    AgentState['messages'].append(response.content) # appending LLM call response to the AgentState\n",
    "    \n",
    "    #print(AgentState)\n",
    "    \n",
    "    return AgentState"
   ]
  },
  {
   "cell_type": "code",
   "execution_count": 82,
   "id": "c5492184",
   "metadata": {},
   "outputs": [],
   "source": [
    "AgentState={}\n"
   ]
  },
  {
   "cell_type": "code",
   "execution_count": 83,
   "id": "3f618bf0",
   "metadata": {},
   "outputs": [],
   "source": [
    "AgentState[\"messages\"]=[]\n"
   ]
  },
  {
   "cell_type": "code",
   "execution_count": 84,
   "id": "ddb07c47",
   "metadata": {},
   "outputs": [
    {
     "data": {
      "text/plain": [
       "{'messages': []}"
      ]
     },
     "execution_count": 84,
     "metadata": {},
     "output_type": "execute_result"
    }
   ],
   "source": [
    "AgentState\n"
   ]
  },
  {
   "cell_type": "code",
   "execution_count": 85,
   "id": "786c8917",
   "metadata": {},
   "outputs": [],
   "source": [
    "AgentState[\"messages\"].append(\"hi, how are you?\")\n"
   ]
  },
  {
   "cell_type": "code",
   "execution_count": 86,
   "id": "ec4bbba3",
   "metadata": {},
   "outputs": [
    {
     "data": {
      "text/plain": [
       "{'messages': ['hi, how are you?']}"
      ]
     },
     "execution_count": 86,
     "metadata": {},
     "output_type": "execute_result"
    }
   ],
   "source": [
    "AgentState\n"
   ]
  },
  {
   "cell_type": "code",
   "execution_count": 87,
   "id": "fd06832d",
   "metadata": {},
   "outputs": [],
   "source": [
    "AgentState[\"messages\"].append(\"hi, what you doing?\")\n"
   ]
  },
  {
   "cell_type": "code",
   "execution_count": 88,
   "id": "d308daeb",
   "metadata": {},
   "outputs": [
    {
     "data": {
      "text/plain": [
       "{'messages': ['hi, how are you?', 'hi, what you doing?']}"
      ]
     },
     "execution_count": 88,
     "metadata": {},
     "output_type": "execute_result"
    }
   ],
   "source": [
    "AgentState\n"
   ]
  },
  {
   "cell_type": "code",
   "execution_count": 89,
   "id": "01f42ada",
   "metadata": {},
   "outputs": [],
   "source": [
    "def function_2(AgentState):\n",
    "    messages = AgentState['messages']\n",
    "    question = messages[0] ## Fetching the user question\n",
    "\n",
    "    template = \"\"\"Answer the question based only on the following context:\n",
    "    {context}\n",
    "\n",
    "    Question: {question}\n",
    "    \"\"\"\n",
    "    prompt = ChatPromptTemplate.from_template(template)\n",
    "\n",
    "    retrieval_chain = (\n",
    "        {\"context\": retriever, \"question\": RunnablePassthrough()}\n",
    "        | prompt\n",
    "        | llm\n",
    "        | StrOutputParser()\n",
    "        )\n",
    "    result = retrieval_chain.invoke(question)\n",
    "    return result"
   ]
  },
  {
   "cell_type": "code",
   "execution_count": 90,
   "id": "60c40845",
   "metadata": {},
   "outputs": [],
   "source": [
    "# Define a Langchain graph\n",
    "\n",
    "class MyState(dict): pass\n",
    "\n",
    "from langgraph.graph import StateGraph\n",
    "workflow4 = StateGraph(MyState)\n",
    "workflow4.add_node(\"LLM\", function_1)\n",
    "workflow4.add_node(\"RAGtool\", function_2)\n",
    "workflow4.add_edge('LLM', 'RAGtool')\n",
    "workflow4.set_entry_point(\"LLM\")\n",
    "workflow4.set_finish_point(\"RAGtool\")\n",
    "app4 = workflow4.compile()"
   ]
  },
  {
   "cell_type": "code",
   "execution_count": 91,
   "id": "f41fa862",
   "metadata": {},
   "outputs": [
    {
     "data": {
      "image/png": "[encoded data removed]",
      "text/plain": [
       "<IPython.core.display.Image object>"
      ]
     },
     "metadata": {},
     "output_type": "display_data"
    }
   ],
   "source": [
    "from IPython.display import Image, display\n",
    "\n",
    "try:\n",
    "    display(Image(app4.get_graph().draw_mermaid_png()))\n",
    "except Exception as e:\n",
    "    # This requires some extra dependencies and is optional\n",
    "    print(e)"
   ]
  },
  {
   "cell_type": "code",
   "execution_count": 92,
   "id": "6c5157e3",
   "metadata": {},
   "outputs": [],
   "source": [
    "inputs = {\"messages\": [\"Tell me about cricket\"]}\n"
   ]
  },
  {
   "cell_type": "code",
   "execution_count": 94,
   "id": "90eb146b",
   "metadata": {},
   "outputs": [
    {
     "data": {
      "text/plain": [
       "{'messages': ['Tell me about cricket']}"
      ]
     },
     "execution_count": 94,
     "metadata": {},
     "output_type": "execute_result"
    }
   ],
   "source": [
    "inputs"
   ]
  },
  {
   "cell_type": "code",
   "execution_count": 96,
   "id": "bb4c57f9",
   "metadata": {},
   "outputs": [],
   "source": [
    "# for output in app4.stream(inputs):\n",
    "#     # stream() yields dictionaries with output keyed by node name\n",
    "#     for key, value in output.items():\n",
    "#         print(f\"Output from node '{key}':\")\n",
    "#         print(\"---\")\n",
    "#         print(value)\n",
    "#     print(\"\\n---\\n\")"
   ]
  },
  {
   "cell_type": "markdown",
   "id": "e7676598",
   "metadata": {},
   "source": [
    "### conditional wrokflow\n",
    " :-> using Router Function"
   ]
  },
  {
   "cell_type": "code",
   "execution_count": null,
   "id": "89ff5df9",
   "metadata": {},
   "outputs": [],
   "source": [
    "# from langgraph.graph import StateGraph,END\n",
    "\n",
    "# workflow5 = StateGraph(AgentState) ### StateGraph with AgentState\n",
    "\n",
    "\n",
    "# workflow5.add_node(\"agent\", function_1)\n",
    "\n",
    "# workflow5.add_node(\"RAG\", function_2)\n",
    "\n",
    "# workflow5.add_node(\"LLM\", function_3)\n",
    "\n",
    "\n",
    "# workflow5.set_entry_point(\"agent\")\n",
    "\n",
    "# workflow5.add_conditional_edges(\n",
    "#     \"agent\",\n",
    "    \n",
    "    \n",
    "#     router,\n",
    "#     {\n",
    "#         \"RAG Call\": \"RAG\",\n",
    "#         \"LLM Call\": \"LLM\",\n",
    "#     }\n",
    "# )\n",
    "\n",
    "# workflow5.add_edge(\"RAG\",END)\n",
    "\n",
    "\n",
    "# workflow5.add_edge(\"LLM\",END)\n",
    "\n",
    "\n",
    "# app5=workflow5.compile()"
   ]
  }
 ],
 "metadata": {
  "kernelspec": {
   "display_name": "Python 3",
   "language": "python",
   "name": "python3"
  },
  "language_info": {
   "codemirror_mode": {
    "name": "ipython",
    "version": 3
   },
   "file_extension": ".py",
   "mimetype": "text/x-python",
   "name": "python",
   "nbconvert_exporter": "python",
   "pygments_lexer": "ipython3",
   "version": "3.10.18"
  }
 },
 "nbformat": 4,
 "nbformat_minor": 5
}
