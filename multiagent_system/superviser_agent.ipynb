{
 "cells": [
  {
   "cell_type": "code",
   "execution_count": 14,
   "id": "88fd4a06",
   "metadata": {},
   "outputs": [],
   "source": [
    "from typing import Annotated\n",
    "from typing import Literal\n",
    "from langchain_community.tools.tavily_search import TavilySearchResults\n",
    "from langchain_core.tools import tool\n",
    "from langchain_experimental.utilities import PythonREPL\n",
    "from typing_extensions import TypedDict\n",
    "from langgraph.graph import MessagesState, END,StateGraph, START\n",
    "from langgraph.types import Command\n",
    "from langchain_core.messages import HumanMessage\n",
    "from langgraph.prebuilt import create_react_agent"
   ]
  },
  {
   "cell_type": "code",
   "execution_count": 15,
   "id": "cac40e7d",
   "metadata": {},
   "outputs": [
    {
     "data": {
      "text/plain": [
       "True"
      ]
     },
     "execution_count": 15,
     "metadata": {},
     "output_type": "execute_result"
    }
   ],
   "source": [
    "from dotenv import load_dotenv\n",
    "\n",
    "\n",
    "load_dotenv()"
   ]
  },
  {
   "cell_type": "code",
   "execution_count": 16,
   "id": "49d05c6c",
   "metadata": {},
   "outputs": [],
   "source": [
    "from langchain_groq import ChatGroq\n",
    "groq_model=ChatGroq(model=\"deepseek-r1-distill-llama-70b\")"
   ]
  },
  {
   "cell_type": "code",
   "execution_count": 17,
   "id": "12b83d60",
   "metadata": {},
   "outputs": [
    {
     "data": {
      "text/plain": [
       "'<think>\\n\\n</think>\\n\\nHello! How can I assist you today? 😊'"
      ]
     },
     "execution_count": 17,
     "metadata": {},
     "output_type": "execute_result"
    }
   ],
   "source": [
    "\n",
    "groq_model.invoke(\"hi\").content"
   ]
  },
  {
   "cell_type": "code",
   "execution_count": 18,
   "id": "48184e62",
   "metadata": {},
   "outputs": [],
   "source": [
    "def clean_text(text):\n",
    "    import re\n",
    "    clean_text = re.sub(r\"<think>.*?</think>\\s*\", \"\", text, flags=re.DOTALL)\n",
    "    return clean_text"
   ]
  },
  {
   "cell_type": "code",
   "execution_count": 19,
   "id": "22597787",
   "metadata": {},
   "outputs": [],
   "source": [
    "response=groq_model.invoke(\"hi\")\n"
   ]
  },
  {
   "cell_type": "code",
   "execution_count": 20,
   "id": "4ccf1627",
   "metadata": {},
   "outputs": [
    {
     "data": {
      "text/plain": [
       "'<think>\\n\\n</think>\\n\\nHello! How can I assist you today?'"
      ]
     },
     "execution_count": 20,
     "metadata": {},
     "output_type": "execute_result"
    }
   ],
   "source": [
    "response.content\n"
   ]
  },
  {
   "cell_type": "code",
   "execution_count": 21,
   "id": "62021d76",
   "metadata": {},
   "outputs": [
    {
     "data": {
      "text/plain": [
       "'Hello! How can I assist you today?'"
      ]
     },
     "execution_count": 21,
     "metadata": {},
     "output_type": "execute_result"
    }
   ],
   "source": [
    "\n",
    "clean_text(response.content)"
   ]
  },
  {
   "cell_type": "code",
   "execution_count": 22,
   "id": "e57935ae",
   "metadata": {},
   "outputs": [],
   "source": [
    "tavaily_tool=TavilySearchResults()\n"
   ]
  },
  {
   "cell_type": "code",
   "execution_count": 23,
   "id": "9d5614d9",
   "metadata": {},
   "outputs": [
    {
     "data": {
      "text/plain": [
       "[{'title': 'Gross domestic product - Wikipedia',\n",
       "  'url': 'https://en.wikipedia.org/wiki/Gross_domestic_product',\n",
       "  'content': 'Gross domestic product (GDP) is a monetarymeasure of the total market value( of all the final goods and services produced and rendered in a specific time period by a country( or countries.( GDP is often used to measure the economic performance of a country or region.( Several national and international economic organizations maintain definitions of GDP, such as the OECD and the International Monetary Fund.( [...] GDP (Y) is the sum of consumption (C), investment (I), government expenditures (G) and net exports (X − M).\\n\\nY = C + I + G + (X − M)\\nHere is a description of each GDP component: [...] Sustainability of growth – GDP is a measurement of economic historic activity and is not necessarily a projection.\\n   Income distribution – GDP does not account for variances in incomes of various demographic groups. See income inequality metrics for discussion of a variety of inequality-based economic measures.(',\n",
       "  'score': 0.8665964},\n",
       " {'title': 'Beginners:GDP - What is gross domestic product (GDP)?',\n",
       "  'url': 'https://ec.europa.eu/eurostat/statistics-explained/index.php/Beginners:GDP_-_What_is_gross_domestic_product_(GDP)%3F',\n",
       "  'content': 'GDP \"Glossary:Gross domestic product (GDP)\") is the most common measure for the size of an economy. It measures the total value of goods and services produced by that economy during a specific time period, typically a year or a quarter, so it helps us understand the size of an economy and the standard of living of its population. [...] GDP is a key measure within a wider framework of economic statistics which is often simply referred to as national accounts. The European system of national and regional accounts (ESA) defines the binding standards and methods used for compiling these accounts, whereas the global standard set by the United Nations (UN) is called the System of National Accounts (SNA) \"Glossary:System of national accounts (SNA)\").\\n\\nGDP can be calculated in 3 ways, but the most common is the production method.',\n",
       "  'score': 0.85567063},\n",
       " {'title': 'The Importance of GDP - Investopedia',\n",
       "  'url': 'https://www.investopedia.com/articles/investing/121213/gdp-and-its-importance.asp',\n",
       "  'content': \"Justin Sullivan / Getty Images\\n\\nGross domestic product (GDP) is defined as the total value of goods and services produced within a country’s borders in a specific period. This can be monthly, quarterly, or annually. GDP is one of the most widely used measures of an economy’s output or production. But, why is it important? It is an accurate indicator of the output of an economy, and the GDP growth rate is probably the single best indicator of economic growth.\\n\\n### Key Takeaways [...] Gross domestic product is a measure of the total market value of all finished goods and services produced domestically within a certain period. Real GDP accounts for inflation, so it is considered to be more accurate than nominal GDP. Compare this to nominal GDP, which can be skewed because it doesn't account for inflation or deflation.\\n\\n## The Bottom Line\",\n",
       "  'score': 0.85008353},\n",
       " {'title': 'Gross domestic product (GDP) | Definition & Formula - Britannica',\n",
       "  'url': 'https://www.britannica.com/money/gross-domestic-product',\n",
       "  'content': 'gross domestic product (GDP), total market value of the goods and services produced by a country’s economy during a specified period of time. It includes all final goods and services—that is, those that are produced by the economic agents located in that country regardless of their ownership and that are not resold in any form. It is used throughout the world as the main measure of output and economic activity. [...] In economics, the final users of goods and services are divided into three main groups: households, businesses, and the government. One way gross domestic product (GDP) is calculated—known as the expenditure approach—is by adding the expenditures made by those three groups of users. Accordingly, GDP is defined by the following formula: GDP = Consumption + Investment + Government Spending + Net Exports or more succinctly as GDP = C + I + G + NX where consumption (C) represents [...] GDP per capita (also called GDP per person) is used as a measure of a country’s standard of living. A country with a higher level of GDP per capita is considered to be better off in economic terms than a country with a lower level.',\n",
       "  'score': 0.8296166},\n",
       " {'title': 'Gross Domestic Product (GDP) Formula and How to Use It',\n",
       "  'url': 'https://www.investopedia.com/terms/g/gdp.asp',\n",
       "  'content': 'Gross domestic product is a measurement that seeks to capture a country’s economic output. Countries with larger GDPs will have a greater amount of goods and services generated within them, and will generally have a higher standard of living. For this reason, many citizens and political leaders see GDP growth as an important measure of national success, often referring to GDP growth and economic growth interchangeably. Due to various limitations, however, many economists have argued that GDP [...] A country’s GDP represents the final market value of all the products and services that a country produces in a single year. Another way to measure GDP is as the sum of four factors: consumer spending, government spending, net exports, and total investment. [...] Real GDP is an inflation-adjusted measure that reflects the number of goods and services produced by an economy in a given year, with prices held constant from year to year to separate out the impact of inflation or deflation from the trend in output over time. Since GDP is based on the monetary value of goods and services, it is subject to inflation.',\n",
       "  'score': 0.8184036}]"
      ]
     },
     "execution_count": 23,
     "metadata": {},
     "output_type": "execute_result"
    }
   ],
   "source": [
    "tavaily_tool.invoke(\"what is a gdp?\")\n"
   ]
  },
  {
   "cell_type": "code",
   "execution_count": 24,
   "id": "281431cb",
   "metadata": {},
   "outputs": [],
   "source": [
    "\n",
    "code = \"\"\"\n",
    "x = 5\n",
    "y = x * 2\n",
    "print(y)\n",
    "\"\"\""
   ]
  },
  {
   "cell_type": "code",
   "execution_count": 25,
   "id": "45ea9432",
   "metadata": {},
   "outputs": [],
   "source": [
    "\n",
    "repl=PythonREPL()"
   ]
  },
  {
   "cell_type": "code",
   "execution_count": 26,
   "id": "5924fcc8",
   "metadata": {},
   "outputs": [
    {
     "data": {
      "text/plain": [
       "'10\\n'"
      ]
     },
     "execution_count": 26,
     "metadata": {},
     "output_type": "execute_result"
    }
   ],
   "source": [
    "\n",
    "repl.run(code)"
   ]
  },
  {
   "cell_type": "code",
   "execution_count": 27,
   "id": "fc0fe131",
   "metadata": {},
   "outputs": [],
   "source": [
    "\n",
    "@tool\n",
    "def python_repl_tool(\n",
    "    code: Annotated[str, \"The python code to execute to generate your chart.\"],\n",
    "):\n",
    "    \"\"\"Use this to execute python code and do math. If you want to see the output of a value,\n",
    "    you should print it out with `print(...)`. This is visible to the user.\"\"\"\n",
    "    \n",
    "    try:\n",
    "        result = repl.run(code)\n",
    "    except BaseException as e:\n",
    "        return f\"Failed to execute. Error: {repr(e)}\"\n",
    "    \n",
    "    result_str = f\"Successfully executed:\\n\\`\\`\\`python\\n{code}\\n\\`\\`\\`\\nStdout: {result}\"\n",
    "    return result_str"
   ]
  },
  {
   "cell_type": "code",
   "execution_count": 28,
   "id": "4ac3d1b0",
   "metadata": {},
   "outputs": [
    {
     "name": "stdout",
     "output_type": "stream",
     "text": [
      "Successfully executed:\n",
      "\\`\\`\\`python\n",
      "\n",
      "x = 5\n",
      "y = x * 2\n",
      "print(y)\n",
      "\n",
      "\\`\\`\\`\n",
      "Stdout: 10\n",
      "\n"
     ]
    }
   ],
   "source": [
    "print(python_repl_tool.invoke(code))\n"
   ]
  },
  {
   "cell_type": "code",
   "execution_count": 29,
   "id": "0c00678b",
   "metadata": {},
   "outputs": [],
   "source": [
    "members=[\"researcher\",\"coder\"]\n"
   ]
  },
  {
   "cell_type": "code",
   "execution_count": 30,
   "id": "6dee1163",
   "metadata": {},
   "outputs": [],
   "source": [
    "options=members+[\"FINISH\"]\n"
   ]
  },
  {
   "cell_type": "code",
   "execution_count": 31,
   "id": "5ea96a8c",
   "metadata": {},
   "outputs": [
    {
     "data": {
      "text/plain": [
       "['researcher', 'coder', 'FINISH']"
      ]
     },
     "execution_count": 31,
     "metadata": {},
     "output_type": "execute_result"
    }
   ],
   "source": [
    "\n",
    "options"
   ]
  },
  {
   "cell_type": "code",
   "execution_count": 32,
   "id": "f14ba667",
   "metadata": {},
   "outputs": [],
   "source": [
    "\n",
    "class Router(TypedDict):\n",
    "    \"\"\"Worker to route to next. If no workers needed, route to FINISH.\"\"\"\n",
    "    next: Literal['researcher', 'coder', 'FINISH']"
   ]
  },
  {
   "cell_type": "code",
   "execution_count": 33,
   "id": "aa9b5419",
   "metadata": {},
   "outputs": [],
   "source": [
    "\n",
    "class State(MessagesState):\n",
    "    next:str"
   ]
  },
  {
   "cell_type": "code",
   "execution_count": 34,
   "id": "bbe179c3",
   "metadata": {},
   "outputs": [
    {
     "data": {
      "text/plain": [
       "[{'role': 'system',\n",
       "  'content': \"\\nYou are a supervisor, tasked with managing a conversation between the following workers: ['researcher', 'coder']. \\nGiven the following user request, respond with the worker to act next. \\nEach worker will perform a task and respond with their results and status. \\nWhen finished, respond with FINISH.\\n\"}]"
      ]
     },
     "execution_count": 34,
     "metadata": {},
     "output_type": "execute_result"
    }
   ],
   "source": [
    "\n",
    "system_prompt=f\"\"\"\n",
    "You are a supervisor, tasked with managing a conversation between the following workers: {members}. \n",
    "Given the following user request, respond with the worker to act next. \n",
    "Each worker will perform a task and respond with their results and status. \n",
    "When finished, respond with FINISH.\n",
    "\"\"\"\n",
    "\n",
    "[{\"role\": \"system\", \"content\": system_prompt},]\n"
   ]
  },
  {
   "cell_type": "code",
   "execution_count": 35,
   "id": "c13350a1",
   "metadata": {},
   "outputs": [],
   "source": [
    "\n",
    "state={\"next\":[\"hi\"]}\n"
   ]
  },
  {
   "cell_type": "code",
   "execution_count": 36,
   "id": "1f7b9d7c",
   "metadata": {},
   "outputs": [
    {
     "data": {
      "text/plain": [
       "['hi']"
      ]
     },
     "execution_count": 36,
     "metadata": {},
     "output_type": "execute_result"
    }
   ],
   "source": [
    "\n",
    "state[\"next\"]"
   ]
  },
  {
   "cell_type": "code",
   "execution_count": 37,
   "id": "fe6e3c1a",
   "metadata": {},
   "outputs": [
    {
     "data": {
      "text/plain": [
       "[{'role': 'system',\n",
       "  'content': \"\\nYou are a supervisor, tasked with managing a conversation between the following workers: ['researcher', 'coder']. \\nGiven the following user request, respond with the worker to act next. \\nEach worker will perform a task and respond with their results and status. \\nWhen finished, respond with FINISH.\\n\"},\n",
       " 'hi']"
      ]
     },
     "execution_count": 37,
     "metadata": {},
     "output_type": "execute_result"
    }
   ],
   "source": [
    "[{\"role\": \"system\", \"content\": system_prompt},] + state[\"next\"]\n"
   ]
  },
  {
   "cell_type": "code",
   "execution_count": 38,
   "id": "66e3b589",
   "metadata": {},
   "outputs": [],
   "source": [
    "\n",
    "def supervisor_node(state: State) -> Command[Literal[\"researcher\", \"coder\", \"__end__\"]]:\n",
    "    \n",
    "    messages = [{\"role\": \"system\", \"content\": system_prompt},] + state[\"messages\"]\n",
    "    \n",
    "    response = groq_model.with_structured_output(Router).invoke(messages)\n",
    "    \n",
    "    goto = response[\"next\"]\n",
    "    \n",
    "    print(\"below my goto**********************************\")\n",
    "    \n",
    "    print(goto)\n",
    "    \n",
    "    if goto == \"FINISH\":\n",
    "        goto = END\n",
    "        \n",
    "    return Command(goto=goto, update={\"next\": goto})"
   ]
  },
  {
   "cell_type": "code",
   "execution_count": 39,
   "id": "b902ac8e",
   "metadata": {},
   "outputs": [],
   "source": [
    "\n",
    "def research_node(state: State) -> Command[Literal[\"supervisor\"]]:\n",
    "    \n",
    "    research_agent = create_react_agent(groq_model, tools=[tavaily_tool], prompt=\"You are a researcher. DO NOT do any math.\")\n",
    "    \n",
    "    result = research_agent.invoke(state)\n",
    "    \n",
    "    return Command(\n",
    "        update={\n",
    "            \"messages\": [\n",
    "                HumanMessage(content=result[\"messages\"][-1].content, name=\"researcher\")\n",
    "            ]\n",
    "        },\n",
    "        goto=\"supervisor\",\n",
    "    )"
   ]
  },
  {
   "cell_type": "code",
   "execution_count": 40,
   "id": "9fbe008a",
   "metadata": {},
   "outputs": [],
   "source": [
    "\n",
    "def code_node(state: State) -> Command[Literal[\"supervisor\"]]:\n",
    "    \n",
    "    code_agent = create_react_agent(groq_model, tools=[python_repl_tool])\n",
    "    \n",
    "    result = code_agent.invoke(state)\n",
    "    \n",
    "    return Command(\n",
    "        update={\n",
    "            \"messages\": [\n",
    "                HumanMessage(content=result[\"messages\"][-1].content, name=\"coder\")\n",
    "            ]\n",
    "        },\n",
    "        goto=\"supervisor\",\n",
    "    )"
   ]
  },
  {
   "cell_type": "code",
   "execution_count": 41,
   "id": "a5834649",
   "metadata": {},
   "outputs": [],
   "source": [
    "graph=StateGraph(State)\n"
   ]
  },
  {
   "cell_type": "code",
   "execution_count": 42,
   "id": "a95930fd",
   "metadata": {},
   "outputs": [
    {
     "data": {
      "text/plain": [
       "<langgraph.graph.state.StateGraph at 0x1dbed493070>"
      ]
     },
     "execution_count": 42,
     "metadata": {},
     "output_type": "execute_result"
    }
   ],
   "source": [
    "graph.add_node(\"supervisor\",supervisor_node)\n"
   ]
  },
  {
   "cell_type": "code",
   "execution_count": 43,
   "id": "ceec9e93",
   "metadata": {},
   "outputs": [
    {
     "data": {
      "text/plain": [
       "<langgraph.graph.state.StateGraph at 0x1dbed493070>"
      ]
     },
     "execution_count": 43,
     "metadata": {},
     "output_type": "execute_result"
    }
   ],
   "source": [
    "graph.add_node(\"researcher\", research_node)\n"
   ]
  },
  {
   "cell_type": "code",
   "execution_count": 44,
   "id": "3a09bbba",
   "metadata": {},
   "outputs": [
    {
     "data": {
      "text/plain": [
       "<langgraph.graph.state.StateGraph at 0x1dbed493070>"
      ]
     },
     "execution_count": 44,
     "metadata": {},
     "output_type": "execute_result"
    }
   ],
   "source": [
    "graph.add_node(\"coder\", code_node)\n"
   ]
  },
  {
   "cell_type": "code",
   "execution_count": 45,
   "id": "966d2c34",
   "metadata": {},
   "outputs": [
    {
     "data": {
      "text/plain": [
       "<langgraph.graph.state.StateGraph at 0x1dbed493070>"
      ]
     },
     "execution_count": 45,
     "metadata": {},
     "output_type": "execute_result"
    }
   ],
   "source": [
    "graph.add_edge(START,\"supervisor\")\n"
   ]
  },
  {
   "cell_type": "code",
   "execution_count": 46,
   "id": "38a3fe53",
   "metadata": {},
   "outputs": [],
   "source": [
    "app=graph.compile()\n"
   ]
  },
  {
   "cell_type": "code",
   "execution_count": 47,
   "id": "5213643f",
   "metadata": {},
   "outputs": [
    {
     "data": {
      "image/png": "[encoded data removed]",
      "text/plain": [
       "<IPython.core.display.Image object>"
      ]
     },
     "metadata": {},
     "output_type": "display_data"
    }
   ],
   "source": [
    "from IPython.display import display, Image\n",
    "\n",
    "display(Image(app.get_graph().draw_mermaid_png()))"
   ]
  },
  {
   "cell_type": "code",
   "execution_count": 48,
   "id": "17a708d9",
   "metadata": {},
   "outputs": [
    {
     "name": "stdout",
     "output_type": "stream",
     "text": [
      "below my goto**********************************\n",
      "researcher\n",
      "((), {'supervisor': {'next': 'researcher'}})\n",
      "----\n",
      "(('researcher:9bdd6c51-0253-a3b5-9d86-52f221faf20a',), {'agent': {'messages': [AIMessage(content='The square root of 42 is approximately 6.48.', additional_kwargs={'reasoning_content': \"Okay, so I'm trying to figure out the square root of 42. I remember that the square root of a number is a value that, when multiplied by itself, gives the original number. So, for 42, I'm looking for a number that, when squared, equals 42.\\n\\nFirst, I think about perfect squares near 42. I know that 6 squared is 36 and 7 squared is 49. Since 42 is between 36 and 49, the square root must be between 6 and 7. But I need a more precise value.\\n\\nI recall that 6.5 squared is 42.25 because 6.5 times 6.5 is 42.25. That’s very close to 42, so the square root of 42 should be just a little less than 6.5. Maybe around 6.48 or something.\\n\\nI also remember that calculators can give precise square roots, but since I don't have one handy, I can estimate it manually. If 6.48 squared is approximately 42, then that's a good approximation.\\n\\nWait, let me check that. 6.48 times 6.48: 6 times 6 is 36, 6 times 0.48 is 2.88, 0.48 times 6 is another 2.88, and 0.48 times 0.48 is 0.2304. Adding those up: 36 + 2.88 + 2.88 + 0.2304 equals 41.9904, which is very close to 42. So, 6.48 squared is approximately 42, making the square root of 42 approximately 6.48.\\n\\nI think that's a reasonable estimate without using a calculator. It’s important to note that the square root of 42 is an irrational number, meaning it can't be expressed exactly as a simple fraction and its decimal goes on forever without repeating. So, 6.48 is just an approximation, but it's precise enough for many purposes.\\n\"}, response_metadata={'token_usage': {'completion_tokens': 449, 'prompt_tokens': 179, 'total_tokens': 628, 'completion_time': 1.66887607, 'prompt_time': 0.011624035, 'queue_time': 0.055073855, 'total_time': 1.6805001050000001}, 'model_name': 'deepseek-r1-distill-llama-70b', 'system_fingerprint': 'fp_76307ac09b', 'finish_reason': 'stop', 'logprobs': None}, id='run--93fd3521-d731-4e15-9c24-a7b77a5d6503-0', usage_metadata={'input_tokens': 179, 'output_tokens': 449, 'total_tokens': 628})]}})\n",
      "----\n",
      "((), {'researcher': {'messages': [HumanMessage(content='The square root of 42 is approximately 6.48.', additional_kwargs={}, response_metadata={}, name='researcher')]}})\n",
      "----\n"
     ]
    },
    {
     "name": "stderr",
     "output_type": "stream",
     "text": [
      "Task supervisor with path ('__pregel_pull', 'supervisor') wrote to unknown channel branch:to:__end__, ignoring it.\n"
     ]
    },
    {
     "name": "stdout",
     "output_type": "stream",
     "text": [
      "below my goto**********************************\n",
      "FINISH\n",
      "((), {'supervisor': {'next': '__end__'}})\n",
      "----\n"
     ]
    }
   ],
   "source": [
    "# With the graph created, we can now invoke it and see how it performs!\n",
    "for s in app.stream({\"messages\": [(\"user\", \"What's the square root of 42?\")]}, subgraphs=True):\n",
    "    print(s)\n",
    "    print(\"----\")"
   ]
  },
  {
   "cell_type": "code",
   "execution_count": 49,
   "id": "d8174b1a",
   "metadata": {},
   "outputs": [
    {
     "name": "stdout",
     "output_type": "stream",
     "text": [
      "below my goto**********************************\n",
      "researcher\n"
     ]
    },
    {
     "name": "stderr",
     "output_type": "stream",
     "text": [
      "Task supervisor with path ('__pregel_pull', 'supervisor') wrote to unknown channel branch:to:__end__, ignoring it.\n"
     ]
    },
    {
     "name": "stdout",
     "output_type": "stream",
     "text": [
      "below my goto**********************************\n",
      "FINISH\n"
     ]
    },
    {
     "data": {
      "text/plain": [
       "{'messages': [HumanMessage(content=\"What's the square root of 42?\", additional_kwargs={}, response_metadata={}, id='6d88b97c-8618-490e-9b2f-878745f978c8'),\n",
       "  HumanMessage(content='The square root of 42 is approximately 6.4807. This is a rounded value, as the exact square root of 42 is an irrational number.', additional_kwargs={}, response_metadata={}, name='researcher', id='b4237be7-4a5d-4c3b-a17b-42f3f144f219')],\n",
       " 'next': '__end__'}"
      ]
     },
     "execution_count": 49,
     "metadata": {},
     "output_type": "execute_result"
    }
   ],
   "source": [
    "app.invoke({\"messages\": [(\"user\", \"What's the square root of 42?\")]}, subgraphs=True)\n"
   ]
  },
  {
   "cell_type": "code",
   "execution_count": null,
   "id": "6d9f58fd",
   "metadata": {},
   "outputs": [
    {
     "name": "stdout",
     "output_type": "stream",
     "text": [
      "below my goto**********************************\n",
      "researcher\n",
      "below my goto**********************************\n",
      "coder\n",
      "below my goto**********************************\n",
      "coder\n",
      "below my goto**********************************\n",
      "coder\n",
      "below my goto**********************************\n",
      "researcher\n",
      "below my goto**********************************\n",
      "coder\n"
     ]
    }
   ],
   "source": [
    "app.invoke({\"messages\": [(\"user\", \"What is an efficient Python code to get prime numbers?\")]}, subgraphs=True)\n"
   ]
  },
  {
   "cell_type": "code",
   "execution_count": null,
   "id": "bad67d9f",
   "metadata": {},
   "outputs": [],
   "source": []
  },
  {
   "cell_type": "code",
   "execution_count": null,
   "id": "b3677665",
   "metadata": {},
   "outputs": [],
   "source": []
  },
  {
   "cell_type": "code",
   "execution_count": null,
   "id": "7da97668",
   "metadata": {},
   "outputs": [],
   "source": []
  }
 ],
 "metadata": {
  "kernelspec": {
   "display_name": "Python 3",
   "language": "python",
   "name": "python3"
  },
  "language_info": {
   "codemirror_mode": {
    "name": "ipython",
    "version": 3
   },
   "file_extension": ".py",
   "mimetype": "text/x-python",
   "name": "python",
   "nbconvert_exporter": "python",
   "pygments_lexer": "ipython3",
   "version": "3.10.18"
  }
 },
 "nbformat": 4,
 "nbformat_minor": 5
}
