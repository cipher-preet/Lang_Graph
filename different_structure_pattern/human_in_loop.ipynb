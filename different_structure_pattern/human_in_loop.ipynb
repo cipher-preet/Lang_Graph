{
 "cells": [
  {
   "cell_type": "code",
   "execution_count": 1,
   "id": "1fda1e1f",
   "metadata": {},
   "outputs": [],
   "source": [
    "from typing import Annotated\n",
    "import operator,json\n",
    "from typing import TypedDict, Annotated, Sequence\n",
    "from typing_extensions import TypedDict\n",
    "from langchain_core.messages import BaseMessage\n",
    "from langgraph.checkpoint.memory import MemorySaver\n",
    "from langgraph.graph import StateGraph,END,START\n",
    "from langgraph.graph.message import add_messages\n",
    "from langgraph.prebuilt import ToolNode, tools_condition\n",
    "from langchain_core.tools import tool\n",
    "from langchain_community.tools.tavily_search import TavilySearchResults"
   ]
  },
  {
   "cell_type": "code",
   "execution_count": 2,
   "id": "1b45051e",
   "metadata": {},
   "outputs": [],
   "source": [
    "from langchain_groq import ChatGroq\n",
    "llm=ChatGroq(model_name=\"Gemma2-9b-It\")"
   ]
  },
  {
   "cell_type": "code",
   "execution_count": 4,
   "id": "3da01533",
   "metadata": {},
   "outputs": [
    {
     "data": {
      "text/plain": [
       "'Hi! 👋\\n\\nWhat can I do for you today? 😊\\n'"
      ]
     },
     "execution_count": 4,
     "metadata": {},
     "output_type": "execute_result"
    }
   ],
   "source": [
    "llm.invoke(\"hi\").content\n"
   ]
  },
  {
   "cell_type": "code",
   "execution_count": 5,
   "id": "970afb67",
   "metadata": {},
   "outputs": [],
   "source": [
    "\n",
    "@tool\n",
    "def multiply(first_number:int, second_number:int)->int:\n",
    "    \"\"\"multiply two integer number\"\"\"\n",
    "    return first_number * second_number"
   ]
  },
  {
   "cell_type": "code",
   "execution_count": 6,
   "id": "6275aca4",
   "metadata": {},
   "outputs": [
    {
     "name": "stderr",
     "output_type": "stream",
     "text": [
      "C:\\Users\\PREET\\AppData\\Local\\Temp\\ipykernel_22124\\2402252026.py:1: LangChainDeprecationWarning: The method `BaseTool.__call__` was deprecated in langchain-core 0.1.47 and will be removed in 1.0. Use :meth:`~invoke` instead.\n",
      "  multiply({\"first_number\":24,\"second_number\":364})\n"
     ]
    },
    {
     "data": {
      "text/plain": [
       "8736"
      ]
     },
     "execution_count": 6,
     "metadata": {},
     "output_type": "execute_result"
    }
   ],
   "source": [
    "multiply({\"first_number\":24,\"second_number\":364})\n"
   ]
  },
  {
   "cell_type": "code",
   "execution_count": 7,
   "id": "90ca3274",
   "metadata": {},
   "outputs": [
    {
     "data": {
      "text/plain": [
       "8736"
      ]
     },
     "execution_count": 7,
     "metadata": {},
     "output_type": "execute_result"
    }
   ],
   "source": [
    "multiply.invoke({\"first_number\":24,\"second_number\":364})\n"
   ]
  },
  {
   "cell_type": "code",
   "execution_count": 8,
   "id": "ecedff41",
   "metadata": {},
   "outputs": [],
   "source": [
    "@tool\n",
    "def search(query:str):\n",
    "    \"\"\"perform the web search on the user query\"\"\"\n",
    "    tavily=TavilySearchResults()\n",
    "    result=tavily.invoke(query)\n",
    "    return result"
   ]
  },
  {
   "cell_type": "code",
   "execution_count": 9,
   "id": "5c2dfe55",
   "metadata": {},
   "outputs": [
    {
     "name": "stderr",
     "output_type": "stream",
     "text": [
      "C:\\Users\\PREET\\AppData\\Local\\Temp\\ipykernel_22124\\1922640126.py:4: LangChainDeprecationWarning: The class `TavilySearchResults` was deprecated in LangChain 0.3.25 and will be removed in 1.0. An updated version of the class exists in the :class:`~langchain-tavily package and should be used instead. To use it run `pip install -U :class:`~langchain-tavily` and import as `from :class:`~langchain_tavily import TavilySearch``.\n",
      "  tavily=TavilySearchResults()\n"
     ]
    },
    {
     "data": {
      "text/plain": [
       "[{'title': 'Presidents, vice presidents, and first ladies | USAGov',\n",
       "  'url': 'https://www.usa.gov/presidents',\n",
       "  'content': 'The 47th and current president of the United States is Donald John Trump. He was sworn into office on January 20, 2025.',\n",
       "  'score': 0.88372874},\n",
       " {'title': 'President of the United States - Ballotpedia',\n",
       "  'url': 'https://ballotpedia.org/President_of_the_United_States',\n",
       "  'content': 'The current President of the United States is Donald Trump (R). Trump assumed office in 2025.',\n",
       "  'score': 0.8747745},\n",
       " {'title': 'President of the United States - Wikipedia',\n",
       "  'url': 'https://en.wikipedia.org/wiki/President_of_the_United_States',\n",
       "  'content': 'In all, 45 individuals have served 47 presidencies spanning 60 four-year terms. Donald Trump is the 47th and current president since January 20, 2025.',\n",
       "  'score': 0.81489426},\n",
       " {'title': 'President of the United States',\n",
       "  'url': 'https://usun.usmission.gov/our-leaders/the-president-of-the-united-states/',\n",
       "  'content': 'United States of America, Department of State\\n\\n# United States Mission to the United Nations\\n\\n### Social / Search – EN\\n\\n# President of the United States\\n\\n### President Donald J. Trump\\n\\nDonald J. Trump serves as the 47th President of the United States. He also served as the 45th.\\n\\nRead the President’s full biography.\\n\\n### Visit The White House Website\\n\\nWhite HouseNews, issues, and photos of the President\\n\\nWhite House\\n\\n### U.S. MISSION TO THE UN\\n\\n### U.S. Mission\\n\\n### RELATED LINKS [...] We use cookies to make our website work better and improve your experience. By continuing to use the site, you agree to our privacy policy. [...] Footer Disclaimer\\n\\nThis is the official website of the U.S. Mission to the United Nations. External links to other Internet sites should not be construed as an endorsement of the views or privacy policies contained therein.\\n\\nAmerican Flag\\n\\nWe use cookies to make our website work better and improve your experience. By continuing to use the site, you agree to our privacy policy.',\n",
       "  'score': 0.6636041},\n",
       " {'title': 'The White House',\n",
       "  'url': 'https://www.whitehouse.gov/',\n",
       "  'content': 'Donald J. Trump. President of the United States · JD Vance. VICE PRESIDENT OF THE UNITED STATES · Melania Trump. First Lady OF THE UNITED STATES · The Cabinet. Of',\n",
       "  'score': 0.644248}]"
      ]
     },
     "execution_count": 9,
     "metadata": {},
     "output_type": "execute_result"
    }
   ],
   "source": [
    "search(\"who is a current president of USA?\")\n"
   ]
  },
  {
   "cell_type": "code",
   "execution_count": 10,
   "id": "891d6fd7",
   "metadata": {},
   "outputs": [
    {
     "data": {
      "text/plain": [
       "[{'title': 'President of the United States - Ballotpedia',\n",
       "  'url': 'https://ballotpedia.org/President_of_the_United_States',\n",
       "  'content': 'The current President of the United States is Donald Trump (R). Trump assumed office in 2025.',\n",
       "  'score': 0.875031},\n",
       " {'title': 'Presidents, vice presidents, and first ladies | USAGov',\n",
       "  'url': 'https://www.usa.gov/presidents',\n",
       "  'content': 'Learn about the duties of president, vice president, and first lady of the United States. Find out how to contact and learn more about current and past leaders.\\n\\n## President of the United States\\n\\nThe president of the United States is the:\\n\\n### Current president\\n\\nThe 47th and current president of the United States is Donald John Trump. He was sworn into office on January 20, 2025.\\n\\n### Former U.S. presidents [...] The vice president of the United States presides over the U.S. Senate and takes over the role of president of the United States if the president is unable to perform their duties. If the vice president is not able to fulfill the duties of president, the role is passed to another leader in the order of presidential succession.\\n\\n### Current vice president\\n\\nThe 50th and current vice president of the United States is James David (JD) Vance. He was sworn in on January 20, 2025 [...] ### Former vice presidents\\n\\nRead about past presidents and vice presidents.\\n\\n## First lady\\n\\nThe First lady of the United States has traditionally been the wife or other close female relative of the president of the United States. First ladies:\\n\\n### Current first lady\\n\\nThe current first lady of the United States is Melania Trump.\\n\\n### Former first ladies\\n\\nFind a list of former first ladies and their presidential spouses.',\n",
       "  'score': 0.86303437},\n",
       " {'title': 'President of the United States - Wikipedia',\n",
       "  'url': 'https://en.wikipedia.org/wiki/President_of_the_United_States',\n",
       "  'content': 'The president is elected indirectly through the Electoral College to a four-year term, along with the vice president. Under the Twenty-second Amendment, ratified in 1951, no person who has been elected to two presidential terms may be elected to a third. In addition, nine vice presidents have become president by virtue of a president\\'s intra-term death or resignation. In all, 45 individuals have served 47 presidencies spanning 60 four-year terms. Donald Trump is the 47th and current president [...] | President of the United States | |\\n| --- | --- |\\n| Presidential seal | |\\n| Presidential flag | |\\n| Incumbent Donald Trump since January 20, 2025 | |\\n|  Executive branch of the U.S. government  Executive Office of the President | |\\n| Style \"Style (form of address)\") |  Mr. President \"President (government title)\") (informal)  The Honorable (formal)  His Excellency (diplomatic) |\\n| Type |  Head of state  Head of government  Commander-in-chief |\\n| Abbreviation | POTUS | [...] | Party | | Number of presidents | Name(s) |\\n| --- | --- | --- | --- |\\n|  | Republican \"Republican Party (United States)\") | 19 | Chester A. Arthur, George H. W. Bush, George W. Bush, Calvin Coolidge, Dwight D. Eisenhower, Gerald Ford, James A. Garfield, Ulysses S. Grant, Warren G. Harding, Benjamin Harrison, Rutherford B. Hayes, Herbert Hoover, Abraham Lincoln, William McKinley, Richard Nixon, Ronald Reagan, Theodore Roosevelt, William Howard Taft, and Donald Trump (incumbent) |',\n",
       "  'score': 0.8156003},\n",
       " {'title': 'President of the United States',\n",
       "  'url': 'https://usun.usmission.gov/our-leaders/the-president-of-the-united-states/',\n",
       "  'content': 'United States of America, Department of State\\n\\n# United States Mission to the United Nations\\n\\n### Social / Search – EN\\n\\n# President of the United States\\n\\n### President Donald J. Trump\\n\\nDonald J. Trump serves as the 47th President of the United States. He also served as the 45th.\\n\\nRead the President’s full biography.\\n\\n### Visit The White House Website\\n\\nWhite HouseNews, issues, and photos of the President\\n\\nWhite House\\n\\n### U.S. MISSION TO THE UN\\n\\n### U.S. Mission\\n\\n### RELATED LINKS',\n",
       "  'score': 0.6636041},\n",
       " {'title': 'The White House',\n",
       "  'url': 'https://www.whitehouse.gov/',\n",
       "  'content': 'Donald J. Trump. President of the United States · JD Vance. VICE PRESIDENT OF THE UNITED STATES · Melania Trump. First Lady OF THE UNITED STATES · The Cabinet. Of',\n",
       "  'score': 0.644248}]"
      ]
     },
     "execution_count": 10,
     "metadata": {},
     "output_type": "execute_result"
    }
   ],
   "source": [
    "search.invoke(\"who is a current president of USA?\")\n"
   ]
  },
  {
   "cell_type": "code",
   "execution_count": 11,
   "id": "92aaf565",
   "metadata": {},
   "outputs": [],
   "source": [
    "tools=[search,multiply]\n"
   ]
  },
  {
   "cell_type": "code",
   "execution_count": 12,
   "id": "8170ea56",
   "metadata": {},
   "outputs": [],
   "source": [
    "model_with_tools = llm.bind_tools(tools)\n"
   ]
  },
  {
   "cell_type": "code",
   "execution_count": 13,
   "id": "20515380",
   "metadata": {},
   "outputs": [],
   "source": [
    "tool_mapping={tool.name: tool for tool in tools}\n"
   ]
  },
  {
   "cell_type": "code",
   "execution_count": 14,
   "id": "ace986d8",
   "metadata": {},
   "outputs": [
    {
     "data": {
      "text/plain": [
       "{'search': StructuredTool(name='search', description='perform the web search on the user query', args_schema=<class 'langchain_core.utils.pydantic.search'>, func=<function search at 0x000002453676CAF0>),\n",
       " 'multiply': StructuredTool(name='multiply', description='multiply two integer number', args_schema=<class 'langchain_core.utils.pydantic.multiply'>, func=<function multiply at 0x000002453676C940>)}"
      ]
     },
     "execution_count": 14,
     "metadata": {},
     "output_type": "execute_result"
    }
   ],
   "source": [
    "tool_mapping\n"
   ]
  },
  {
   "cell_type": "code",
   "execution_count": 15,
   "id": "39801df9",
   "metadata": {},
   "outputs": [],
   "source": [
    "response = model_with_tools.invoke(\"who is a current president of USA?\")\n"
   ]
  },
  {
   "cell_type": "code",
   "execution_count": 16,
   "id": "ab60dd84",
   "metadata": {},
   "outputs": [
    {
     "data": {
      "text/plain": [
       "AIMessage(content='', additional_kwargs={'tool_calls': [{'id': 'f8f1c7z0z', 'function': {'arguments': '{\"query\":\"who is the current president of the USA\"}', 'name': 'search'}, 'type': 'function'}]}, response_metadata={'token_usage': {'completion_tokens': 87, 'prompt_tokens': 1075, 'total_tokens': 1162, 'completion_time': 0.158181818, 'prompt_time': 0.037452048, 'queue_time': 0.24305222099999996, 'total_time': 0.195633866}, 'model_name': 'Gemma2-9b-It', 'system_fingerprint': 'fp_10c08bf97d', 'finish_reason': 'tool_calls', 'logprobs': None}, id='run--97e8fc8b-dfb1-4ded-bc99-3666edfcb84d-0', tool_calls=[{'name': 'search', 'args': {'query': 'who is the current president of the USA'}, 'id': 'f8f1c7z0z', 'type': 'tool_call'}], usage_metadata={'input_tokens': 1075, 'output_tokens': 87, 'total_tokens': 1162})"
      ]
     },
     "execution_count": 16,
     "metadata": {},
     "output_type": "execute_result"
    }
   ],
   "source": [
    "response\n"
   ]
  },
  {
   "cell_type": "code",
   "execution_count": 17,
   "id": "98841c73",
   "metadata": {},
   "outputs": [],
   "source": [
    "tool_details=response.additional_kwargs.get(\"tool_calls\")\n"
   ]
  },
  {
   "cell_type": "code",
   "execution_count": 18,
   "id": "4c92b8cf",
   "metadata": {},
   "outputs": [
    {
     "data": {
      "text/plain": [
       "[{'id': 'f8f1c7z0z',\n",
       "  'function': {'arguments': '{\"query\":\"who is the current president of the USA\"}',\n",
       "   'name': 'search'},\n",
       "  'type': 'function'}]"
      ]
     },
     "execution_count": 18,
     "metadata": {},
     "output_type": "execute_result"
    }
   ],
   "source": [
    "tool_details\n"
   ]
  },
  {
   "cell_type": "code",
   "execution_count": 19,
   "id": "dc1f05ce",
   "metadata": {},
   "outputs": [
    {
     "data": {
      "text/plain": [
       "'search'"
      ]
     },
     "execution_count": 19,
     "metadata": {},
     "output_type": "execute_result"
    }
   ],
   "source": [
    "tool_details[0][\"function\"][\"name\"]\n"
   ]
  },
  {
   "cell_type": "code",
   "execution_count": 20,
   "id": "580ca3cf",
   "metadata": {},
   "outputs": [
    {
     "data": {
      "text/plain": [
       "'{\"query\":\"who is the current president of the USA\"}'"
      ]
     },
     "execution_count": 20,
     "metadata": {},
     "output_type": "execute_result"
    }
   ],
   "source": [
    "tool_details[0][\"function\"][\"arguments\"]\n"
   ]
  },
  {
   "cell_type": "code",
   "execution_count": 21,
   "id": "e7c2a8bb",
   "metadata": {},
   "outputs": [
    {
     "data": {
      "text/plain": [
       "{'query': 'who is the current president of the USA'}"
      ]
     },
     "execution_count": 21,
     "metadata": {},
     "output_type": "execute_result"
    }
   ],
   "source": [
    "json.loads(tool_details[0][\"function\"][\"arguments\"])\n"
   ]
  },
  {
   "cell_type": "code",
   "execution_count": 22,
   "id": "c0cd47b4",
   "metadata": {},
   "outputs": [
    {
     "data": {
      "text/plain": [
       "[{'title': 'Presidents, vice presidents, and first ladies | USAGov',\n",
       "  'url': 'https://www.usa.gov/presidents',\n",
       "  'content': 'The 47th and current president of the United States is Donald John Trump. He was sworn into office on January 20, 2025.',\n",
       "  'score': 0.8865877},\n",
       " {'title': 'President of the United States - Ballotpedia',\n",
       "  'url': 'https://ballotpedia.org/President_of_the_United_States',\n",
       "  'content': 'The current President of the United States is Donald Trump (R). Trump assumed office in 2025.',\n",
       "  'score': 0.8812988},\n",
       " {'title': 'Who Is The President Of The USA? - All About America',\n",
       "  'url': 'https://allaboutamerica.com/united-states/who-is-the-president-of-the-usa.html',\n",
       "  'content': 'The White House, Official Residence and Workplace of the President of the United States\\n\\n# Who Is The President Of The USA?\\n\\nAs of 2025, the President of the United States isDonald J. Trump, a real estate mogul, television personality, and political outsider who reshaped modern American politics. After a commanding victory in the 2024 election, Trump returned to the White House for a historic second non-consecutive term—becoming the only US president since Grover Cleveland to do so. [...] The question,“Who is the President of the USA?”, has always been more than a matter of fact—it reflects the direction, mood, and priorities of the nation. In 2025, that answer is Donald J. Trump, a businessman-turned-politician whose leadership style continues to spark conversation across the globe. [...] Before entering politics, Donald Trump was already a household name. A graduate of the Wharton School of Finance at the University of Pennsylvania, Trump made his fortune in real estate, following in the footsteps of his father, Fred Trump. His business empire expanded from Queens and Brooklyn to Manhattan, and eventually, internationally.',\n",
       "  'score': 0.84707206},\n",
       " {'title': 'President of the United States - Wikipedia',\n",
       "  'url': 'https://en.wikipedia.org/wiki/President_of_the_United_States',\n",
       "  'content': 'In all, 45 individuals have served 47 presidencies spanning 60 four-year terms. Donald Trump is the 47th and current president since January 20, 2025.',\n",
       "  'score': 0.82761955},\n",
       " {'title': 'Presidents of the United States - GovTrack.us',\n",
       "  'url': 'https://www.govtrack.us/congress/other-people/presidents',\n",
       "  'content': 'Presidents of the United States President Donald Trump [Republican, 2025-2029] President Joseph Biden [Democrat, 2021-2025] President Donald Trump [Republican, 2017-2021] President Barack Obama [Democrat, 2009-2017] President George Walker Bush [Republican, 2001-2009] President William \"Bill\" Clinton [Democrat, 1993-2001]',\n",
       "  'score': 0.8184036}]"
      ]
     },
     "execution_count": 22,
     "metadata": {},
     "output_type": "execute_result"
    }
   ],
   "source": [
    "tool_mapping[tool_details[0][\"function\"][\"name\"]].invoke(json.loads(tool_details[0][\"function\"][\"arguments\"]))\n"
   ]
  },
  {
   "cell_type": "code",
   "execution_count": 23,
   "id": "4f13cd24",
   "metadata": {},
   "outputs": [],
   "source": [
    "\n",
    "class AgentState(TypedDict):\n",
    "    messages: Annotated[Sequence[BaseMessage], operator.add]"
   ]
  },
  {
   "cell_type": "code",
   "execution_count": 24,
   "id": "314e58f1",
   "metadata": {},
   "outputs": [],
   "source": [
    "\n",
    "def invoke_model(state:AgentState):\n",
    "    messages = state['messages']\n",
    "    question = messages[-1]   ## Fetching the user question\n",
    "    return {\"messages\":[model_with_tools.invoke(question)]}"
   ]
  },
  {
   "cell_type": "code",
   "execution_count": 25,
   "id": "4bda2706",
   "metadata": {},
   "outputs": [],
   "source": [
    "def invoke_tool(state:AgentState):\n",
    "    tool_details= state['messages'][-1].additional_kwargs.get(\"tool_calls\", [])[0]\n",
    "    \n",
    "    if tool_details is None:\n",
    "        raise Exception(\"no tool call found\")\n",
    "    \n",
    "    print(f'Selected tool: {tool_details.get(\"function\").get(\"name\")}')\n",
    "    \n",
    "    if tool_details.get(\"function\").get(\"name\")==\"search\":\n",
    "        response = input(prompt=f\"[y/n] continue with expensive web search?\")\n",
    "        if response == \"n\":\n",
    "            raise Exception(\"web search discard\")\n",
    "        \n",
    "    response = tool_mapping[tool_details['function']['name']].invoke(json.loads(tool_details.get(\"function\").get(\"arguments\")))\n",
    "    return {\"messages\" : [response]}"
   ]
  },
  {
   "cell_type": "code",
   "execution_count": 26,
   "id": "52f814f8",
   "metadata": {},
   "outputs": [],
   "source": [
    "\n",
    "def router(state):\n",
    "    tool_calls = state['messages'][-1].additional_kwargs.get(\"tool_calls\", [])\n",
    "    if len(tool_calls):\n",
    "        return \"tool\"\n",
    "    else:\n",
    "        return \"end\""
   ]
  },
  {
   "cell_type": "code",
   "execution_count": 27,
   "id": "683710c0",
   "metadata": {},
   "outputs": [
    {
     "data": {
      "text/plain": [
       "<langgraph.graph.state.StateGraph at 0x245368aa080>"
      ]
     },
     "execution_count": 27,
     "metadata": {},
     "output_type": "execute_result"
    }
   ],
   "source": [
    "\n",
    "graph = StateGraph(AgentState) ### StateGraph with AgentState\n",
    "\n",
    "graph.add_node(\"ai_assistant\", invoke_model)\n",
    "\n",
    "graph.add_node(\"tool\", invoke_tool)"
   ]
  },
  {
   "cell_type": "code",
   "execution_count": 28,
   "id": "d91f46a7",
   "metadata": {},
   "outputs": [
    {
     "data": {
      "text/plain": [
       "<langgraph.graph.state.StateGraph at 0x245368aa080>"
      ]
     },
     "execution_count": 28,
     "metadata": {},
     "output_type": "execute_result"
    }
   ],
   "source": [
    "\n",
    "graph.add_conditional_edges(\"ai_assistant\", router, {\"tool\": \"tool\",\"end\": END,})\n",
    "\n",
    "graph.add_edge(\"tool\", END)\n",
    "\n",
    "#graph.add_edge(\"tool\", \"ai_assistant\")\n",
    "\n",
    "graph.set_entry_point(\"ai_assistant\")"
   ]
  },
  {
   "cell_type": "code",
   "execution_count": 30,
   "id": "b3975430",
   "metadata": {},
   "outputs": [],
   "source": [
    "app = graph.compile()\n"
   ]
  },
  {
   "cell_type": "code",
   "execution_count": 31,
   "id": "93b78879",
   "metadata": {},
   "outputs": [
    {
     "data": {
      "image/png": "[encoded data removed]",
      "text/plain": [
       "<IPython.core.display.Image object>"
      ]
     },
     "metadata": {},
     "output_type": "display_data"
    }
   ],
   "source": [
    "from IPython.display import Image, display\n",
    "display(Image(app.get_graph().draw_mermaid_png()))"
   ]
  },
  {
   "cell_type": "code",
   "execution_count": 32,
   "id": "e09dc3af",
   "metadata": {},
   "outputs": [
    {
     "name": "stdout",
     "output_type": "stream",
     "text": [
      "{'messages': [AIMessage(content='', additional_kwargs={'tool_calls': [{'id': 'g5vgpvmb3', 'function': {'arguments': '{\"query\":\"upcoming president of USA\"}', 'name': 'search'}, 'type': 'function'}]}, response_metadata={'token_usage': {'completion_tokens': 82, 'prompt_tokens': 1074, 'total_tokens': 1156, 'completion_time': 0.149090909, 'prompt_time': 0.037170896, 'queue_time': 0.24440293400000002, 'total_time': 0.186261805}, 'model_name': 'Gemma2-9b-It', 'system_fingerprint': 'fp_10c08bf97d', 'finish_reason': 'tool_calls', 'logprobs': None}, id='run--d84df025-8318-473b-a20b-02497d4f8cd4-0', tool_calls=[{'name': 'search', 'args': {'query': 'upcoming president of USA'}, 'id': 'g5vgpvmb3', 'type': 'tool_call'}], usage_metadata={'input_tokens': 1074, 'output_tokens': 82, 'total_tokens': 1156})]}\n",
      "----\n",
      "Selected tool: search\n",
      "{'messages': [[{'title': '2024 United States presidential election - Wikipedia', 'url': 'https://en.wikipedia.org/wiki/2024_United_States_presidential_election', 'content': \"Presidential elections were held in the United States on November 5, 2024. The Republican Party's ticket—Donald Trump, who served as the 45th president of\", 'score': 0.63939893}, {'title': '2024 | The American Presidency Project', 'url': 'https://www.presidency.ucsb.edu/statistics/elections/2024', 'content': '| |  |  |  |  |  |  |  |  |  | | --- | --- | --- | --- | --- | --- | --- | --- | --- | | Party | | Nominees | | Electoral Vote | | Popular Vote | | | | Presidential | Vice Presidential | | Democratic |  | Kamala Harris | Tim Walz | 226 | 42% | 75,019,230 | 48.34% | | Republican |  | Donald J. Trump | J.D. Vance | 312 | 58% | 77,303,568 | 49.81% | | Various |  | Others | | 0 | 0 % | 2,878,359 | 1.85% | | Last update: 12/31/2024 | | | | | | | | | |  | | | | | | | | | | | | | | | | | | | | [...] |  |  |  |  |  |  |  |  |  |\\n| --- | --- | --- | --- | --- | --- | --- | --- | --- |\\n| Party | | Nominees | | Electoral Vote | | Popular Vote | | |\\n| Presidential | Vice Presidential |\\n| Democratic |  | Kamala Harris | Tim Walz | 226 | 42% | 75,019,230 | 48.34% |\\n| Republican |  | Donald J. Trump | J.D. Vance | 312 | 58% | 77,303,568 | 49.81% |\\n| Various |  | Others | | 0 | 0 % | 2,878,359 | 1.85% |\\n| Last update: 12/31/2024 | | | | | | | | |\\n|  | | | | | | | | |\\n\\nLast update: 12/31/2024 [...] |  Click on a state\\'s name for access to source used for this data.  Click on a state\\'s electoral vote total to download Ascertainment of Vote Certificate.  The APP excludes \"over\" and \"under\" votes in the total votes cast, which also impacts the vote percentage for candidates. | | | | | | | | | | |\\n| Harris-Walz 2024  Trump-Vance 2024 | | Kamala Harris | | | Donald Trump | | |  | | |\\n| KAMALA HARRIS Democratic | | | DONALD J. TRUMP Republican | | | OTHERS Various | | |', 'score': 0.63777614}, {'title': 'United States presidential election of 2024 - Britannica', 'url': 'https://www.britannica.com/event/United-States-presidential-election-of-2024', 'content': 'American election, held on November 5, 2024, in which former Republican president Donald Trump (2017–21) defeated the Democratic nominee, Vice Pres. Kamala', 'score': 0.6342494}, {'title': '2024 United States elections - Wikipedia', 'url': 'https://en.wikipedia.org/wiki/2024_United_States_elections', 'content': 'Elections were held in the United States on November 5, 2024. In the presidential election, former Republican President Donald Trump,', 'score': 0.6161283}, {'title': 'Election 2024: Campaign news, presidential polls and results - CNN', 'url': 'https://www.cnn.com/election/2024', 'content': 'President Joe Biden delivers remarks on the 2024 election results and the upcoming presidential transition of power, in the Rose Garden of the White House in Washington, DC, on Novmeber 7.\\nThumbMB.png\\nvoters thumb.jpg [...] US Vice President Democratic presidential candidate Kamala Harris speaks at Howard University in Washington, DC, on November 6, 2024. Donald Trump won a sweeping victory on November 6, 2024 in the US presidential election, defeating Kamala Harris to complete an astonishing political comeback that sent shock waves around the world. (Photo by SAUL LOEB / AFP) (Photo by SAUL LOEB/AFP via Getty Images) [...] Republican presidential nominee former President Donald Trump arrives at an election night watch party at the Palm Beach Convention Center, Wednesday, Nov. 6, 2024, in West Palm Beach, Fla.', 'score': 0.57723385}]]}\n",
      "----\n"
     ]
    }
   ],
   "source": [
    "\n",
    "for s in app.stream({\"messages\": [\"who is upcoming president of USA?\"]}):\n",
    "    print(list(s.values())[0])\n",
    "    print(\"----\")\n",
    "     "
   ]
  },
  {
   "cell_type": "code",
   "execution_count": 33,
   "id": "d9b6596d",
   "metadata": {},
   "outputs": [
    {
     "name": "stdout",
     "output_type": "stream",
     "text": [
      "{'messages': [AIMessage(content='', additional_kwargs={'tool_calls': [{'id': '5xb809rkj', 'function': {'arguments': '{\"first_number\":23,\"second_number\":46}', 'name': 'multiply'}, 'type': 'function'}]}, response_metadata={'token_usage': {'completion_tokens': 91, 'prompt_tokens': 1079, 'total_tokens': 1170, 'completion_time': 0.165454545, 'prompt_time': 0.037018927, 'queue_time': 0.24374160199999997, 'total_time': 0.202473472}, 'model_name': 'Gemma2-9b-It', 'system_fingerprint': 'fp_10c08bf97d', 'finish_reason': 'tool_calls', 'logprobs': None}, id='run--52ed0593-a50d-441d-84e4-deebd5649e20-0', tool_calls=[{'name': 'multiply', 'args': {'first_number': 23, 'second_number': 46}, 'id': '5xb809rkj', 'type': 'tool_call'}], usage_metadata={'input_tokens': 1079, 'output_tokens': 91, 'total_tokens': 1170})]}\n",
      "----\n",
      "Selected tool: multiply\n",
      "{'messages': [1058]}\n",
      "----\n"
     ]
    }
   ],
   "source": [
    "for s in app.stream({\"messages\": [\"what is multiplication of 23 and 46?\"]}):\n",
    "    print(list(s.values())[0])\n",
    "    print(\"----\")"
   ]
  },
  {
   "cell_type": "code",
   "execution_count": 34,
   "id": "03d1e288",
   "metadata": {},
   "outputs": [
    {
     "name": "stdout",
     "output_type": "stream",
     "text": [
      "{'messages': [AIMessage(content='', additional_kwargs={'tool_calls': [{'id': 'hbf6zpr28', 'function': {'arguments': '{\"query\":\"What is the total amount of money in circulation worldwide?\"}', 'name': 'search'}, 'type': 'function'}]}, response_metadata={'token_usage': {'completion_tokens': 89, 'prompt_tokens': 1079, 'total_tokens': 1168, 'completion_time': 0.161818182, 'prompt_time': 0.116920557, 'queue_time': 1.269211605, 'total_time': 0.278738739}, 'model_name': 'Gemma2-9b-It', 'system_fingerprint': 'fp_10c08bf97d', 'finish_reason': 'tool_calls', 'logprobs': None}, id='run--77f37362-0887-45c0-8e90-e0dd07ab4b53-0', tool_calls=[{'name': 'search', 'args': {'query': 'What is the total amount of money in circulation worldwide?'}, 'id': 'hbf6zpr28', 'type': 'tool_call'}], usage_metadata={'input_tokens': 1079, 'output_tokens': 89, 'total_tokens': 1168})]}\n",
      "----\n",
      "Selected tool: search\n"
     ]
    },
    {
     "ename": "Exception",
     "evalue": "web search discard",
     "output_type": "error",
     "traceback": [
      "\u001b[1;31m---------------------------------------------------------------------------\u001b[0m",
      "\u001b[1;31mException\u001b[0m                                 Traceback (most recent call last)",
      "Cell \u001b[1;32mIn[34], line 1\u001b[0m\n\u001b[1;32m----> 1\u001b[0m \u001b[38;5;28;01mfor\u001b[39;00m s \u001b[38;5;129;01min\u001b[39;00m app\u001b[38;5;241m.\u001b[39mstream({\u001b[38;5;124m\"\u001b[39m\u001b[38;5;124mmessages\u001b[39m\u001b[38;5;124m\"\u001b[39m: [\u001b[38;5;124m\"\u001b[39m\u001b[38;5;124mwhat is the total amount of money exist over the earth?\u001b[39m\u001b[38;5;124m\"\u001b[39m]}):\n\u001b[0;32m      2\u001b[0m     \u001b[38;5;28mprint\u001b[39m(\u001b[38;5;28mlist\u001b[39m(s\u001b[38;5;241m.\u001b[39mvalues())[\u001b[38;5;241m0\u001b[39m])\n\u001b[0;32m      3\u001b[0m     \u001b[38;5;28mprint\u001b[39m(\u001b[38;5;124m\"\u001b[39m\u001b[38;5;124m----\u001b[39m\u001b[38;5;124m\"\u001b[39m)\n",
      "File \u001b[1;32md:\\LangGraph_End_To_End\\venv\\lib\\site-packages\\langgraph\\pregel\\__init__.py:2533\u001b[0m, in \u001b[0;36mPregel.stream\u001b[1;34m(self, input, config, stream_mode, print_mode, output_keys, interrupt_before, interrupt_after, checkpoint_during, debug, subgraphs)\u001b[0m\n\u001b[0;32m   2531\u001b[0m \u001b[38;5;28;01mfor\u001b[39;00m task \u001b[38;5;129;01min\u001b[39;00m loop\u001b[38;5;241m.\u001b[39mmatch_cached_writes():\n\u001b[0;32m   2532\u001b[0m     loop\u001b[38;5;241m.\u001b[39moutput_writes(task\u001b[38;5;241m.\u001b[39mid, task\u001b[38;5;241m.\u001b[39mwrites, cached\u001b[38;5;241m=\u001b[39m\u001b[38;5;28;01mTrue\u001b[39;00m)\n\u001b[1;32m-> 2533\u001b[0m \u001b[38;5;28;01mfor\u001b[39;00m _ \u001b[38;5;129;01min\u001b[39;00m runner\u001b[38;5;241m.\u001b[39mtick(\n\u001b[0;32m   2534\u001b[0m     [t \u001b[38;5;28;01mfor\u001b[39;00m t \u001b[38;5;129;01min\u001b[39;00m loop\u001b[38;5;241m.\u001b[39mtasks\u001b[38;5;241m.\u001b[39mvalues() \u001b[38;5;28;01mif\u001b[39;00m \u001b[38;5;129;01mnot\u001b[39;00m t\u001b[38;5;241m.\u001b[39mwrites],\n\u001b[0;32m   2535\u001b[0m     timeout\u001b[38;5;241m=\u001b[39m\u001b[38;5;28mself\u001b[39m\u001b[38;5;241m.\u001b[39mstep_timeout,\n\u001b[0;32m   2536\u001b[0m     get_waiter\u001b[38;5;241m=\u001b[39mget_waiter,\n\u001b[0;32m   2537\u001b[0m     schedule_task\u001b[38;5;241m=\u001b[39mloop\u001b[38;5;241m.\u001b[39maccept_push,\n\u001b[0;32m   2538\u001b[0m ):\n\u001b[0;32m   2539\u001b[0m     \u001b[38;5;66;03m# emit output\u001b[39;00m\n\u001b[0;32m   2540\u001b[0m     \u001b[38;5;28;01myield from\u001b[39;00m _output(\n\u001b[0;32m   2541\u001b[0m         stream_mode, print_mode, subgraphs, stream\u001b[38;5;241m.\u001b[39mget, queue\u001b[38;5;241m.\u001b[39mEmpty\n\u001b[0;32m   2542\u001b[0m     )\n\u001b[0;32m   2543\u001b[0m loop\u001b[38;5;241m.\u001b[39mafter_tick()\n",
      "File \u001b[1;32md:\\LangGraph_End_To_End\\venv\\lib\\site-packages\\langgraph\\pregel\\runner.py:162\u001b[0m, in \u001b[0;36mPregelRunner.tick\u001b[1;34m(self, tasks, reraise, timeout, retry_policy, get_waiter, schedule_task)\u001b[0m\n\u001b[0;32m    160\u001b[0m t \u001b[38;5;241m=\u001b[39m tasks[\u001b[38;5;241m0\u001b[39m]\n\u001b[0;32m    161\u001b[0m \u001b[38;5;28;01mtry\u001b[39;00m:\n\u001b[1;32m--> 162\u001b[0m     \u001b[43mrun_with_retry\u001b[49m\u001b[43m(\u001b[49m\n\u001b[0;32m    163\u001b[0m \u001b[43m        \u001b[49m\u001b[43mt\u001b[49m\u001b[43m,\u001b[49m\n\u001b[0;32m    164\u001b[0m \u001b[43m        \u001b[49m\u001b[43mretry_policy\u001b[49m\u001b[43m,\u001b[49m\n\u001b[0;32m    165\u001b[0m \u001b[43m        \u001b[49m\u001b[43mconfigurable\u001b[49m\u001b[38;5;241;43m=\u001b[39;49m\u001b[43m{\u001b[49m\n\u001b[0;32m    166\u001b[0m \u001b[43m            \u001b[49m\u001b[43mCONFIG_KEY_CALL\u001b[49m\u001b[43m:\u001b[49m\u001b[43m \u001b[49m\u001b[43mpartial\u001b[49m\u001b[43m(\u001b[49m\n\u001b[0;32m    167\u001b[0m \u001b[43m                \u001b[49m\u001b[43m_call\u001b[49m\u001b[43m,\u001b[49m\n\u001b[0;32m    168\u001b[0m \u001b[43m                \u001b[49m\u001b[43mweakref\u001b[49m\u001b[38;5;241;43m.\u001b[39;49m\u001b[43mref\u001b[49m\u001b[43m(\u001b[49m\u001b[43mt\u001b[49m\u001b[43m)\u001b[49m\u001b[43m,\u001b[49m\n\u001b[0;32m    169\u001b[0m \u001b[43m                \u001b[49m\u001b[43mretry_policy\u001b[49m\u001b[38;5;241;43m=\u001b[39;49m\u001b[43mretry_policy\u001b[49m\u001b[43m,\u001b[49m\n\u001b[0;32m    170\u001b[0m \u001b[43m                \u001b[49m\u001b[43mfutures\u001b[49m\u001b[38;5;241;43m=\u001b[39;49m\u001b[43mweakref\u001b[49m\u001b[38;5;241;43m.\u001b[39;49m\u001b[43mref\u001b[49m\u001b[43m(\u001b[49m\u001b[43mfutures\u001b[49m\u001b[43m)\u001b[49m\u001b[43m,\u001b[49m\n\u001b[0;32m    171\u001b[0m \u001b[43m                \u001b[49m\u001b[43mschedule_task\u001b[49m\u001b[38;5;241;43m=\u001b[39;49m\u001b[43mschedule_task\u001b[49m\u001b[43m,\u001b[49m\n\u001b[0;32m    172\u001b[0m \u001b[43m                \u001b[49m\u001b[43msubmit\u001b[49m\u001b[38;5;241;43m=\u001b[39;49m\u001b[38;5;28;43mself\u001b[39;49m\u001b[38;5;241;43m.\u001b[39;49m\u001b[43msubmit\u001b[49m\u001b[43m,\u001b[49m\n\u001b[0;32m    173\u001b[0m \u001b[43m            \u001b[49m\u001b[43m)\u001b[49m\u001b[43m,\u001b[49m\n\u001b[0;32m    174\u001b[0m \u001b[43m        \u001b[49m\u001b[43m}\u001b[49m\u001b[43m,\u001b[49m\n\u001b[0;32m    175\u001b[0m \u001b[43m    \u001b[49m\u001b[43m)\u001b[49m\n\u001b[0;32m    176\u001b[0m     \u001b[38;5;28mself\u001b[39m\u001b[38;5;241m.\u001b[39mcommit(t, \u001b[38;5;28;01mNone\u001b[39;00m)\n\u001b[0;32m    177\u001b[0m \u001b[38;5;28;01mexcept\u001b[39;00m \u001b[38;5;167;01mException\u001b[39;00m \u001b[38;5;28;01mas\u001b[39;00m exc:\n",
      "File \u001b[1;32md:\\LangGraph_End_To_End\\venv\\lib\\site-packages\\langgraph\\pregel\\retry.py:42\u001b[0m, in \u001b[0;36mrun_with_retry\u001b[1;34m(task, retry_policy, configurable)\u001b[0m\n\u001b[0;32m     40\u001b[0m     task\u001b[38;5;241m.\u001b[39mwrites\u001b[38;5;241m.\u001b[39mclear()\n\u001b[0;32m     41\u001b[0m     \u001b[38;5;66;03m# run the task\u001b[39;00m\n\u001b[1;32m---> 42\u001b[0m     \u001b[38;5;28;01mreturn\u001b[39;00m \u001b[43mtask\u001b[49m\u001b[38;5;241;43m.\u001b[39;49m\u001b[43mproc\u001b[49m\u001b[38;5;241;43m.\u001b[39;49m\u001b[43minvoke\u001b[49m\u001b[43m(\u001b[49m\u001b[43mtask\u001b[49m\u001b[38;5;241;43m.\u001b[39;49m\u001b[43minput\u001b[49m\u001b[43m,\u001b[49m\u001b[43m \u001b[49m\u001b[43mconfig\u001b[49m\u001b[43m)\u001b[49m\n\u001b[0;32m     43\u001b[0m \u001b[38;5;28;01mexcept\u001b[39;00m ParentCommand \u001b[38;5;28;01mas\u001b[39;00m exc:\n\u001b[0;32m     44\u001b[0m     ns: \u001b[38;5;28mstr\u001b[39m \u001b[38;5;241m=\u001b[39m config[CONF][CONFIG_KEY_CHECKPOINT_NS]\n",
      "File \u001b[1;32md:\\LangGraph_End_To_End\\venv\\lib\\site-packages\\langgraph\\utils\\runnable.py:623\u001b[0m, in \u001b[0;36mRunnableSeq.invoke\u001b[1;34m(self, input, config, **kwargs)\u001b[0m\n\u001b[0;32m    621\u001b[0m     \u001b[38;5;66;03m# run in context\u001b[39;00m\n\u001b[0;32m    622\u001b[0m     \u001b[38;5;28;01mwith\u001b[39;00m set_config_context(config, run) \u001b[38;5;28;01mas\u001b[39;00m context:\n\u001b[1;32m--> 623\u001b[0m         \u001b[38;5;28minput\u001b[39m \u001b[38;5;241m=\u001b[39m context\u001b[38;5;241m.\u001b[39mrun(step\u001b[38;5;241m.\u001b[39minvoke, \u001b[38;5;28minput\u001b[39m, config, \u001b[38;5;241m*\u001b[39m\u001b[38;5;241m*\u001b[39mkwargs)\n\u001b[0;32m    624\u001b[0m \u001b[38;5;28;01melse\u001b[39;00m:\n\u001b[0;32m    625\u001b[0m     \u001b[38;5;28minput\u001b[39m \u001b[38;5;241m=\u001b[39m step\u001b[38;5;241m.\u001b[39minvoke(\u001b[38;5;28minput\u001b[39m, config)\n",
      "File \u001b[1;32md:\\LangGraph_End_To_End\\venv\\lib\\site-packages\\langgraph\\utils\\runnable.py:377\u001b[0m, in \u001b[0;36mRunnableCallable.invoke\u001b[1;34m(self, input, config, **kwargs)\u001b[0m\n\u001b[0;32m    375\u001b[0m         run_manager\u001b[38;5;241m.\u001b[39mon_chain_end(ret)\n\u001b[0;32m    376\u001b[0m \u001b[38;5;28;01melse\u001b[39;00m:\n\u001b[1;32m--> 377\u001b[0m     ret \u001b[38;5;241m=\u001b[39m \u001b[38;5;28mself\u001b[39m\u001b[38;5;241m.\u001b[39mfunc(\u001b[38;5;241m*\u001b[39margs, \u001b[38;5;241m*\u001b[39m\u001b[38;5;241m*\u001b[39mkwargs)\n\u001b[0;32m    378\u001b[0m \u001b[38;5;28;01mif\u001b[39;00m \u001b[38;5;28mself\u001b[39m\u001b[38;5;241m.\u001b[39mrecurse \u001b[38;5;129;01mand\u001b[39;00m \u001b[38;5;28misinstance\u001b[39m(ret, Runnable):\n\u001b[0;32m    379\u001b[0m     \u001b[38;5;28;01mreturn\u001b[39;00m ret\u001b[38;5;241m.\u001b[39minvoke(\u001b[38;5;28minput\u001b[39m, config)\n",
      "Cell \u001b[1;32mIn[25], line 12\u001b[0m, in \u001b[0;36minvoke_tool\u001b[1;34m(state)\u001b[0m\n\u001b[0;32m     10\u001b[0m     response \u001b[38;5;241m=\u001b[39m \u001b[38;5;28minput\u001b[39m(prompt\u001b[38;5;241m=\u001b[39m\u001b[38;5;124mf\u001b[39m\u001b[38;5;124m\"\u001b[39m\u001b[38;5;124m[y/n] continue with expensive web search?\u001b[39m\u001b[38;5;124m\"\u001b[39m)\n\u001b[0;32m     11\u001b[0m     \u001b[38;5;28;01mif\u001b[39;00m response \u001b[38;5;241m==\u001b[39m \u001b[38;5;124m\"\u001b[39m\u001b[38;5;124mn\u001b[39m\u001b[38;5;124m\"\u001b[39m:\n\u001b[1;32m---> 12\u001b[0m         \u001b[38;5;28;01mraise\u001b[39;00m \u001b[38;5;167;01mException\u001b[39;00m(\u001b[38;5;124m\"\u001b[39m\u001b[38;5;124mweb search discard\u001b[39m\u001b[38;5;124m\"\u001b[39m)\n\u001b[0;32m     14\u001b[0m response \u001b[38;5;241m=\u001b[39m tool_mapping[tool_details[\u001b[38;5;124m'\u001b[39m\u001b[38;5;124mfunction\u001b[39m\u001b[38;5;124m'\u001b[39m][\u001b[38;5;124m'\u001b[39m\u001b[38;5;124mname\u001b[39m\u001b[38;5;124m'\u001b[39m]]\u001b[38;5;241m.\u001b[39minvoke(json\u001b[38;5;241m.\u001b[39mloads(tool_details\u001b[38;5;241m.\u001b[39mget(\u001b[38;5;124m\"\u001b[39m\u001b[38;5;124mfunction\u001b[39m\u001b[38;5;124m\"\u001b[39m)\u001b[38;5;241m.\u001b[39mget(\u001b[38;5;124m\"\u001b[39m\u001b[38;5;124marguments\u001b[39m\u001b[38;5;124m\"\u001b[39m)))\n\u001b[0;32m     15\u001b[0m \u001b[38;5;28;01mreturn\u001b[39;00m {\u001b[38;5;124m\"\u001b[39m\u001b[38;5;124mmessages\u001b[39m\u001b[38;5;124m\"\u001b[39m : [response]}\n",
      "\u001b[1;31mException\u001b[0m: web search discard"
     ]
    }
   ],
   "source": [
    "\n",
    "for s in app.stream({\"messages\": [\"what is the total amount of money exist over the earth?\"]}):\n",
    "    print(list(s.values())[0])\n",
    "    print(\"----\")\n",
    "     "
   ]
  },
  {
   "cell_type": "markdown",
   "id": "59b1e05f",
   "metadata": {},
   "source": [
    "### LangGraph supports human-in-the-loop workflows in a number of ways. In this section, we will use LangGraph's interrupt_before functionality to always break the tool node."
   ]
  },
  {
   "cell_type": "code",
   "execution_count": 35,
   "id": "dd6945eb",
   "metadata": {},
   "outputs": [],
   "source": [
    "\n",
    "from langchain_groq import ChatGroq\n",
    "llm=ChatGroq(model_name=\"Gemma2-9b-It\")"
   ]
  },
  {
   "cell_type": "code",
   "execution_count": 36,
   "id": "4401aad5",
   "metadata": {},
   "outputs": [],
   "source": [
    "\n",
    "class AgentState(TypedDict):\n",
    "    messages: Annotated[list, add_messages]"
   ]
  },
  {
   "cell_type": "code",
   "execution_count": 37,
   "id": "0e3cee4b",
   "metadata": {},
   "outputs": [],
   "source": [
    "tavily=TavilySearchResults()\n"
   ]
  },
  {
   "cell_type": "code",
   "execution_count": 38,
   "id": "bb814140",
   "metadata": {},
   "outputs": [],
   "source": [
    "tools = [tavily]\n"
   ]
  },
  {
   "cell_type": "code",
   "execution_count": 39,
   "id": "d7c19257",
   "metadata": {},
   "outputs": [],
   "source": [
    "llm_with_tools = llm.bind_tools(tools)\n"
   ]
  },
  {
   "cell_type": "code",
   "execution_count": 40,
   "id": "1c2875fe",
   "metadata": {},
   "outputs": [],
   "source": [
    "\n",
    "def ai_assistant(state: AgentState):\n",
    "    return {\"messages\": [llm_with_tools.invoke(state[\"messages\"])]}"
   ]
  },
  {
   "cell_type": "code",
   "execution_count": 41,
   "id": "b6ae6373",
   "metadata": {},
   "outputs": [],
   "source": [
    "\n",
    "memory = MemorySaver()"
   ]
  },
  {
   "cell_type": "code",
   "execution_count": 42,
   "id": "bf134a96",
   "metadata": {},
   "outputs": [
    {
     "data": {
      "text/plain": [
       "<langgraph.graph.state.StateGraph at 0x245384c8dc0>"
      ]
     },
     "execution_count": 42,
     "metadata": {},
     "output_type": "execute_result"
    }
   ],
   "source": [
    "\n",
    "graph_builder = StateGraph(AgentState)\n",
    "graph_builder.add_node(\"ai_assistant\", ai_assistant)\n",
    "\n",
    "tool_node = ToolNode(tools=tools)\n",
    "graph_builder.add_node(\"tools\", tool_node)"
   ]
  },
  {
   "cell_type": "code",
   "execution_count": 47,
   "id": "b2694356",
   "metadata": {},
   "outputs": [
    {
     "name": "stderr",
     "output_type": "stream",
     "text": [
      "Adding an edge to a graph that has already been compiled. This will not be reflected in the compiled graph.\n",
      "Adding an edge to a graph that has already been compiled. This will not be reflected in the compiled graph.\n"
     ]
    },
    {
     "ename": "ValueError",
     "evalue": "Branch with name `tools_condition` already exists for node `ai_assistant`",
     "output_type": "error",
     "traceback": [
      "\u001b[1;31m---------------------------------------------------------------------------\u001b[0m",
      "\u001b[1;31mValueError\u001b[0m                                Traceback (most recent call last)",
      "Cell \u001b[1;32mIn[47], line 3\u001b[0m\n\u001b[0;32m      1\u001b[0m graph_builder\u001b[38;5;241m.\u001b[39madd_edge(START, \u001b[38;5;124m\"\u001b[39m\u001b[38;5;124mai_assistant\u001b[39m\u001b[38;5;124m\"\u001b[39m)\n\u001b[1;32m----> 3\u001b[0m \u001b[43mgraph_builder\u001b[49m\u001b[38;5;241;43m.\u001b[39;49m\u001b[43madd_conditional_edges\u001b[49m\u001b[43m(\u001b[49m\n\u001b[0;32m      4\u001b[0m \u001b[43m    \u001b[49m\u001b[38;5;124;43m\"\u001b[39;49m\u001b[38;5;124;43mai_assistant\u001b[39;49m\u001b[38;5;124;43m\"\u001b[39;49m\u001b[43m,\u001b[49m\n\u001b[0;32m      5\u001b[0m \u001b[43m    \u001b[49m\u001b[43mtools_condition\u001b[49m\u001b[43m,\u001b[49m\n\u001b[0;32m      6\u001b[0m \u001b[43m)\u001b[49m\n\u001b[0;32m      7\u001b[0m graph_builder\u001b[38;5;241m.\u001b[39madd_edge(\u001b[38;5;124m\"\u001b[39m\u001b[38;5;124mtools\u001b[39m\u001b[38;5;124m\"\u001b[39m, \u001b[38;5;124m\"\u001b[39m\u001b[38;5;124mai_assistant\u001b[39m\u001b[38;5;124m\"\u001b[39m)\n",
      "File \u001b[1;32md:\\LangGraph_End_To_End\\venv\\lib\\site-packages\\langgraph\\graph\\state.py:640\u001b[0m, in \u001b[0;36mStateGraph.add_conditional_edges\u001b[1;34m(self, source, path, path_map)\u001b[0m\n\u001b[0;32m    638\u001b[0m \u001b[38;5;66;03m# validate the condition\u001b[39;00m\n\u001b[0;32m    639\u001b[0m \u001b[38;5;28;01mif\u001b[39;00m name \u001b[38;5;129;01min\u001b[39;00m \u001b[38;5;28mself\u001b[39m\u001b[38;5;241m.\u001b[39mbranches[source]:\n\u001b[1;32m--> 640\u001b[0m     \u001b[38;5;28;01mraise\u001b[39;00m \u001b[38;5;167;01mValueError\u001b[39;00m(\n\u001b[0;32m    641\u001b[0m         \u001b[38;5;124mf\u001b[39m\u001b[38;5;124m\"\u001b[39m\u001b[38;5;124mBranch with name `\u001b[39m\u001b[38;5;132;01m{\u001b[39;00mpath\u001b[38;5;241m.\u001b[39mname\u001b[38;5;132;01m}\u001b[39;00m\u001b[38;5;124m` already exists for node `\u001b[39m\u001b[38;5;132;01m{\u001b[39;00msource\u001b[38;5;132;01m}\u001b[39;00m\u001b[38;5;124m`\u001b[39m\u001b[38;5;124m\"\u001b[39m\n\u001b[0;32m    642\u001b[0m     )\n\u001b[0;32m    643\u001b[0m \u001b[38;5;66;03m# save it\u001b[39;00m\n\u001b[0;32m    644\u001b[0m \u001b[38;5;28mself\u001b[39m\u001b[38;5;241m.\u001b[39mbranches[source][name] \u001b[38;5;241m=\u001b[39m Branch\u001b[38;5;241m.\u001b[39mfrom_path(path, path_map, \u001b[38;5;28;01mTrue\u001b[39;00m)\n",
      "\u001b[1;31mValueError\u001b[0m: Branch with name `tools_condition` already exists for node `ai_assistant`"
     ]
    }
   ],
   "source": [
    "\n",
    "graph_builder.add_edge(START, \"ai_assistant\")\n",
    "\n",
    "graph_builder.add_conditional_edges(\n",
    "    \"ai_assistant\",\n",
    "    tools_condition,\n",
    ")\n",
    "graph_builder.add_edge(\"tools\", \"ai_assistant\")\n",
    "     "
   ]
  },
  {
   "cell_type": "code",
   "execution_count": null,
   "id": "a14bd4e9",
   "metadata": {},
   "outputs": [],
   "source": [
    "\n",
    "app2 = graph_builder.compile(\n",
    "    checkpointer=memory,\n",
    "    # This is new!\n",
    "    interrupt_before=[\"tools\"],\n",
    "    # Note: can also interrupt __after__ tools, if desired.\n",
    "    # interrupt_after=[\"tools\"]\n",
    ")\n",
    "     "
   ]
  },
  {
   "cell_type": "code",
   "execution_count": null,
   "id": "31e638a7",
   "metadata": {},
   "outputs": [
    {
     "data": {
      "image/png": "[encoded data removed]",
      "text/plain": [
       "<IPython.core.display.Image object>"
      ]
     },
     "metadata": {},
     "output_type": "display_data"
    }
   ],
   "source": [
    "\n",
    "from IPython.display import Image, display\n",
    "display(Image(app2.get_graph().draw_mermaid_png()))"
   ]
  },
  {
   "cell_type": "code",
   "execution_count": 46,
   "id": "115d4bb8",
   "metadata": {},
   "outputs": [],
   "source": [
    "\n",
    "user_input = \"what is current a capital of india?\"\n",
    "config = {\"configurable\": {\"thread_id\": \"1\"}}"
   ]
  },
  {
   "cell_type": "code",
   "execution_count": 48,
   "id": "1493b90a",
   "metadata": {},
   "outputs": [],
   "source": [
    "\n",
    "# The config is the **second positional argument** to stream() or invoke()!\n",
    "events = app2.stream(\n",
    "    {\"messages\": [(\"user\", user_input)]}, config, stream_mode=\"values\"\n",
    ")\n",
    "     "
   ]
  },
  {
   "cell_type": "code",
   "execution_count": 49,
   "id": "38bcf7b9",
   "metadata": {},
   "outputs": [
    {
     "name": "stdout",
     "output_type": "stream",
     "text": [
      "================================\u001b[1m Human Message \u001b[0m=================================\n",
      "\n",
      "what is current a capital of india?\n",
      "==================================\u001b[1m Ai Message \u001b[0m==================================\n",
      "Tool Calls:\n",
      "  tavily_search_results_json (5wthg33rv)\n",
      " Call ID: 5wthg33rv\n",
      "  Args:\n",
      "    query: capital of india\n"
     ]
    }
   ],
   "source": [
    "for event in events:\n",
    "    if \"messages\" in event:\n",
    "        event[\"messages\"][-1].pretty_print()"
   ]
  },
  {
   "cell_type": "code",
   "execution_count": 50,
   "id": "85c8893d",
   "metadata": {},
   "outputs": [],
   "source": [
    "snapshot = app2.get_state(config)\n"
   ]
  },
  {
   "cell_type": "code",
   "execution_count": 51,
   "id": "e6baace2",
   "metadata": {},
   "outputs": [
    {
     "data": {
      "text/plain": [
       "('tools',)"
      ]
     },
     "execution_count": 51,
     "metadata": {},
     "output_type": "execute_result"
    }
   ],
   "source": [
    "snapshot.next\n"
   ]
  },
  {
   "cell_type": "code",
   "execution_count": 52,
   "id": "c565a80a",
   "metadata": {},
   "outputs": [],
   "source": [
    "last_message=snapshot.values[\"messages\"][-1]\n"
   ]
  },
  {
   "cell_type": "code",
   "execution_count": 53,
   "id": "891bbffc",
   "metadata": {},
   "outputs": [
    {
     "data": {
      "text/plain": [
       "[{'name': 'tavily_search_results_json',\n",
       "  'args': {'query': 'capital of india'},\n",
       "  'id': '5wthg33rv',\n",
       "  'type': 'tool_call'}]"
      ]
     },
     "execution_count": 53,
     "metadata": {},
     "output_type": "execute_result"
    }
   ],
   "source": [
    "last_message.tool_calls\n"
   ]
  },
  {
   "cell_type": "code",
   "execution_count": 54,
   "id": "d9f9f365",
   "metadata": {},
   "outputs": [],
   "source": [
    "# `None` will append nothing new to the current state, letting it resume as if it had never been interrupted\n",
    "events = app2.stream(None, config, stream_mode=\"values\")"
   ]
  },
  {
   "cell_type": "code",
   "execution_count": 55,
   "id": "1ab6fb75",
   "metadata": {},
   "outputs": [
    {
     "name": "stdout",
     "output_type": "stream",
     "text": [
      "==================================\u001b[1m Ai Message \u001b[0m==================================\n",
      "Tool Calls:\n",
      "  tavily_search_results_json (5wthg33rv)\n",
      " Call ID: 5wthg33rv\n",
      "  Args:\n",
      "    query: capital of india\n",
      "=================================\u001b[1m Tool Message \u001b[0m=================================\n",
      "Name: tavily_search_results_json\n",
      "\n",
      "[{\"title\": \"New Delhi - Wikipedia\", \"url\": \"https://en.wikipedia.org/wiki/New_Delhi\", \"content\": \"Appearance\\n\\nmove to sidebar hide\\n\\nCoordinates: 28°36′50″N 77°12′32″E / 28.61389°N 77.20889°E / 28.61389; 77.20889\\n\\nImage 4: Page semi-protected\\n\\nFrom Wikipedia, the free encyclopedia\\n\\nCapital city of India\\n\\nThis article is about the capital of India, within the union territory of Delhi. For other uses, see New Delhi (disambiguation) \\\"New Delhi (disambiguation)\\\"). [...] New Delhi (/ˈ nj uː ˈ d ɛ.l i/ⓘ;( _\\\\_\\\\\\\\_Naī Dillī\\\\\\\\_\\\\__, pronounced( \\\"Help:IPA/Hindi and Urdu\\\")) is the capital of India and a part of the National Capital Territory of Delhi (NCT). New Delhi is the seat of all three branches of the Government of India, hosting the Rashtrapati Bhavan, Sansad Bhavan, and the Supreme Court. New Delhi is a municipality within the NCT, administered by the New Delhi Municipal Council (NDMC), which covers mostly Lutyens' Delhi and a few adjacent areas. The municipal [...] 8.   ^Stancati, Margherita (8 December 2011). \\\"New Delhi becomes the capital of Independent India\\\". _The Wall Street Journal_. Archived from the original on 13 December 2019. Retrieved 11 December 2011.\\n9.   ^\\\"86 years ago New Delhi took over as power capital of India\\\". _The Times of India_. Archived from the original on 1 March 2021. Retrieved 31 May 2018.\", \"score\": 0.9006087}, {\"title\": \"Where is the political capital of India? - Quora\", \"url\": \"https://www.quora.com/Where-is-the-political-capital-of-India\", \"content\": \"The political capital of India is New Delhi. It became the political capital on 13th February 1931. The foundation stone was laid by King George the fifth.\", \"score\": 0.87139857}, {\"title\": \"States and Capitals of India 2025: Complete List & Info\", \"url\": \"https://www.cheggindia.com/govt-exams/states-and-capitals/\", \"content\": \"Upon gaining independence in 1947, India was initially divided into 29 states and 7 union territories, each with its own administrative structure. The capital of India remained New Delhi, which was already an established center of governance during British rule.\\n\\n   New Delhi, which had replaced Calcutta as the capital of India in 1911, continued as the capital post-independence.\\n\\n#### Reorganization of States (1956) [...] Gujarat and Maharashtra were created in 1960, with Gandhinagar as the capital of Gujarat and Mumbai as the capital of Maharashtra.\\n   Haryana was created in 1966 with Chandigarh as its capital, which was also made the capital of Punjab.\\n   Nagaland became a state in 1963, with Kohima as its capital.\\n   Madhya Pradesh and Chhattisgarh were two other states formed after India’s independence, with Bhopal and Raipur as their capitals, respectively. [...] Before independence in 1947, India was under British colonial rule and was divided into provinces and princely states. The capitals during this time were primarily British-controlled cities like Calcutta (now Kolkata), which was the capital of British India, and Bombay (now Mumbai), Madras (now Chennai), and Delhi, which served as important administrative centers for the British colonial government.\\n\\n#### Post-Independence Era (1947)\", \"score\": 0.8458536}, {\"title\": \"Which City is Called the Political Capital of India? - Current Affairs\", \"url\": \"https://currentaffairs.adda247.com/which-city-is-called-the-political-capital-of-india/\", \"content\": \"Often referred to as the Political Capital of India, New Delhi is the hub of the country's governance, administration, and diplomacy.\", \"score\": 0.838376}, {\"title\": \"New Delhi | History, Population, Map, & Facts - Britannica\", \"url\": \"https://www.britannica.com/place/New-Delhi\", \"content\": \"Image 19: New Delhi, India\\n\\nNew Delhi, India(more)\\n\\nNew Delhi, national capital of India. It is situated in the north-central part of the country on the west bank of the Yamuna River, adjacent to and just south of Delhi city (Old Delhi) and within the Delhi national capital territory. [...] Delhi, city and national capital, and union territory, north-central India. The city of Delhi actually consists of two components: Old Delhi, in the north, the historic city; and New Delhi, in the south, since 1947 the capital of India, built in the first part of the 20th century as the capital of British India.\\n\\nImage 45: Rashtrapati Bhavan and the Jaipur Column [...] In December 1911 King George V of Britain decreed that the capital of British India would be moved from Calcutta (now Kolkata) to Delhi. Construction began in 1912 at a site about 3 miles (5 km) south of the Delhi city centre, and the new capital was formally dedicated in 1931. The straight and diagonal pattern of the broad tree-lined avenues in New Delhi, with extensive green spaces and wide vistas, contrasts sharply with the crowded, narrow, and winding streets characteristic of Old Delhi.\", \"score\": 0.83093774}]\n",
      "==================================\u001b[1m Ai Message \u001b[0m==================================\n",
      "Tool Calls:\n",
      "  tavily_search_results_json (6tkdxfb4q)\n",
      " Call ID: 6tkdxfb4q\n",
      "  Args:\n",
      "    query: New Delhi history\n"
     ]
    }
   ],
   "source": [
    "\n",
    "for event in events:\n",
    "    if \"messages\" in event:\n",
    "        event[\"messages\"][-1].pretty_print()"
   ]
  },
  {
   "cell_type": "code",
   "execution_count": 56,
   "id": "b905c2cf",
   "metadata": {},
   "outputs": [],
   "source": [
    "\n",
    "user_input = \"what is a weather there?\"\n",
    "\n",
    "config = {\"configurable\": {\"thread_id\": \"1\"}}"
   ]
  },
  {
   "cell_type": "code",
   "execution_count": 57,
   "id": "013a3ac8",
   "metadata": {},
   "outputs": [],
   "source": [
    "\n",
    "# The config is the **second positional argument** to stream() or invoke()!\n",
    "events = app2.stream(\n",
    "    {\"messages\": [(\"user\", user_input)]}, config, stream_mode=\"values\"\n",
    ")"
   ]
  },
  {
   "cell_type": "code",
   "execution_count": 58,
   "id": "4ed6d508",
   "metadata": {},
   "outputs": [
    {
     "name": "stdout",
     "output_type": "stream",
     "text": [
      "================================\u001b[1m Human Message \u001b[0m=================================\n",
      "\n",
      "what is a weather there?\n",
      "==================================\u001b[1m Ai Message \u001b[0m==================================\n",
      "Tool Calls:\n",
      "  tavily_search_results_json (4ysz7e0jf)\n",
      " Call ID: 4ysz7e0jf\n",
      "  Args:\n",
      "    query: weather in New Delhi\n"
     ]
    }
   ],
   "source": [
    "\n",
    "for event in events:\n",
    "    if \"messages\" in event:\n",
    "        event[\"messages\"][-1].pretty_print()"
   ]
  },
  {
   "cell_type": "code",
   "execution_count": 59,
   "id": "46145ab8",
   "metadata": {},
   "outputs": [],
   "source": [
    "snapshot = app2.get_state(config)\n"
   ]
  },
  {
   "cell_type": "code",
   "execution_count": 60,
   "id": "3ff7779e",
   "metadata": {},
   "outputs": [
    {
     "data": {
      "text/plain": [
       "('tools',)"
      ]
     },
     "execution_count": 60,
     "metadata": {},
     "output_type": "execute_result"
    }
   ],
   "source": [
    "snapshot.next\n"
   ]
  },
  {
   "cell_type": "code",
   "execution_count": 61,
   "id": "23896098",
   "metadata": {},
   "outputs": [],
   "source": [
    "last_message=snapshot.values[\"messages\"][-1]\n"
   ]
  },
  {
   "cell_type": "code",
   "execution_count": 62,
   "id": "e7c382a9",
   "metadata": {},
   "outputs": [
    {
     "data": {
      "text/plain": [
       "[{'name': 'tavily_search_results_json',\n",
       "  'args': {'query': 'weather in New Delhi'},\n",
       "  'id': '4ysz7e0jf',\n",
       "  'type': 'tool_call'}]"
      ]
     },
     "execution_count": 62,
     "metadata": {},
     "output_type": "execute_result"
    }
   ],
   "source": [
    "last_message.tool_calls\n"
   ]
  },
  {
   "cell_type": "code",
   "execution_count": 63,
   "id": "cc3cb256",
   "metadata": {},
   "outputs": [],
   "source": [
    "\n",
    "# `None` will append nothing new to the current state, letting it resume as if it had never been interrupted\n",
    "events = app2.stream(None, config, stream_mode=\"values\")\n",
    "     "
   ]
  },
  {
   "cell_type": "code",
   "execution_count": 64,
   "id": "f9bf8884",
   "metadata": {},
   "outputs": [
    {
     "name": "stdout",
     "output_type": "stream",
     "text": [
      "==================================\u001b[1m Ai Message \u001b[0m==================================\n",
      "Tool Calls:\n",
      "  tavily_search_results_json (4ysz7e0jf)\n",
      " Call ID: 4ysz7e0jf\n",
      "  Args:\n",
      "    query: weather in New Delhi\n",
      "=================================\u001b[1m Tool Message \u001b[0m=================================\n",
      "Name: tavily_search_results_json\n",
      "\n",
      "[{\"title\": \"New Delhi Weather Forecast 5 Jul 2025 - Times of India\", \"url\": \"https://timesofindia.indiatimes.com/weather/new-delhi-weather-forecast-today/110011\", \"content\": \"New Delhi Weather Forecast 5 Jul 2025 ; UV Index. 8 of 11 ; Humidity. 62 ; Max. Temp. 34 °C ; Min. Temp. 29 °C.\", \"score\": 0.9314689}, {\"title\": \"Warm start at 25.63 °C, check weather forecast for May 7, 2025\", \"url\": \"https://qa-www.hindustantimes.com/cities/delhi/delhi-weather-today-aqi-and-rain-forecast-updates-may-7-2025-101746581407243.html\", \"content\": \"The temperature in Delhi today, on May 7, 2025, is 30.09 °C. The day's forecast indicates a minimum and maximum temperature of 25.63 °C and\", \"score\": 0.9205687}, {\"title\": \"Delhi Weather Forecast 2025 : Today's Temperature, Hourly ... - NDTV\", \"url\": \"https://www.ndtv.com/weather/delhi-weather-forecast-today\", \"content\": \"Moderate rain with overall cloudy sky. Today, July 5, 2025. 29.5 °C. Max 36.0°C | Min 28.0°C. Feels like 37.2°C. Hourly Weather.\", \"score\": 0.89501935}, {\"title\": \"Weather New Delhi in July 2025: Temperature & Climate\", \"url\": \"https://en.climate-data.org/asia/india/delhi/new-delhi-30/t/july-7/\", \"content\": \"| 5. July | 31 °C | 88 °F | 35 °C | 96 °F | 27 °C | 81 °F | 4.8 mm | 0.2 inch. |\\n| 6. July | 31 °C | 88 °F | 36 °C | 96 °F | 27 °C | 81 °F | 4.8 mm | 0.2 inch. |\\n| 7. July | 31 °C | 88 °F | 36 °C | 96 °F | 27 °C | 81 °F | 5.1 mm | 0.2 inch. |\\n| 8. July | 31 °C | 88 °F | 35 °C | 95 °F | 27 °C | 81 °F | 3.8 mm | 0.1 inch. |\\n| 9. July | 31 °C | 87 °F | 35 °C | 95 °F | 27 °C | 81 °F | 5.2 mm | 0.2 inch. |\\n| 10. July | 31 °C | 87 °F | 35 °C | 94 °F | 27 °C | 81 °F | 6.1 mm | 0.2 inch. | [...] 13.5 °C\\n\\n(56.3) °F\\n\\n16.9 °C\\n\\n(62.4) °F\\n\\n22.5 °C\\n\\n(72.6) °F\\n\\n29.2 °C\\n\\n(84.5) °F\\n\\n32.7 °C\\n\\n(90.9) °F\\n\\n33 °C\\n\\n(91.3) °F\\n\\n29.9 °C\\n\\n(85.8) °F\\n\\n28.7 °C\\n\\n(83.7) °F\\n\\n27.8 °C\\n\\n(82.1) °F\\n\\n25.4 °C\\n\\n(77.7) °F\\n\\n20.5 °C\\n\\n(69) °F\\n\\n15.4 °C\\n\\n(59.7) °F\\n\\n7.7 °C\\n\\n(45.8) °F\\n\\n10.6 °C\\n\\n(51) °F\\n\\n15.2 °C\\n\\n(59.4) °F\\n\\n21 °C\\n\\n(69.8) °F\\n\\n25.3 °C\\n\\n(77.6) °F\\n\\n27.6 °C\\n\\n(81.6) °F\\n\\n26.6 °C\\n\\n(79.9) °F\\n\\n25.8 °C\\n\\n(78.5) °F\\n\\n23.9 °C\\n\\n(75.1) °F\\n\\n19.2 °C\\n\\n(66.5) °F\\n\\n14.2 °C\\n\\n(57.5) °F\\n\\n9.3 °C\\n\\n(48.7) °F\\n\\n20 °C\\n\\n(68) °F\\n\\n23.5 °C [...] | Min. Temperature °C (°F) | 7.7 °C  (45.8) °F | 10.6 °C  (51) °F | 15.2 °C  (59.4) °F | 21 °C  (69.8) °F | 25.3 °C  (77.6) °F | 27.6 °C  (81.6) °F | 26.6 °C  (79.9) °F | 25.8 °C  (78.5) °F | 23.9 °C  (75.1) °F | 19.2 °C  (66.5) °F | 14.2 °C  (57.5) °F | 9.3 °C  (48.7) °F |\", \"score\": 0.8747745}, {\"title\": \"New Delhi 5 July Weather. Forecast for New Delhi - India\", \"url\": \"https://globalmeteo.com/weather/new-delhi/jul-05/\", \"content\": \"New Delhi 5 July Weather. Climatic norm Jul 5. 81°. 90°. 98°. minimum. average. maximum. Friday, Jul 5 2024. Night. Morning. Afternoon. Evening ... 2025.\", \"score\": 0.85825616}]\n",
      "==================================\u001b[1m Ai Message \u001b[0m==================================\n",
      "\n",
      "It is 34 degrees Celsius and 29 degrees Celsius.\n"
     ]
    }
   ],
   "source": [
    "\n",
    "for event in events:\n",
    "    if \"messages\" in event:\n",
    "        event[\"messages\"][-1].pretty_print()"
   ]
  },
  {
   "cell_type": "code",
   "execution_count": 65,
   "id": "7dae1f2d",
   "metadata": {},
   "outputs": [
    {
     "data": {
      "text/plain": [
       "StateSnapshot(values={'messages': [HumanMessage(content='what is current a capital of india?', additional_kwargs={}, response_metadata={}, id='7c5ee157-594a-48aa-8d3e-befb0bd8b50a'), AIMessage(content='', additional_kwargs={'tool_calls': [{'id': '5wthg33rv', 'function': {'arguments': '{\"query\":\"capital of india\"}', 'name': 'tavily_search_results_json'}, 'type': 'function'}]}, response_metadata={'token_usage': {'completion_tokens': 88, 'prompt_tokens': 988, 'total_tokens': 1076, 'completion_time': 0.16, 'prompt_time': 0.034140068, 'queue_time': 0.246877812, 'total_time': 0.194140068}, 'model_name': 'Gemma2-9b-It', 'system_fingerprint': 'fp_10c08bf97d', 'finish_reason': 'tool_calls', 'logprobs': None}, id='run--69e0614f-bdd9-4b0b-976b-23695625013a-0', tool_calls=[{'name': 'tavily_search_results_json', 'args': {'query': 'capital of india'}, 'id': '5wthg33rv', 'type': 'tool_call'}], usage_metadata={'input_tokens': 988, 'output_tokens': 88, 'total_tokens': 1076}), ToolMessage(content='[{\"title\": \"New Delhi - Wikipedia\", \"url\": \"https://en.wikipedia.org/wiki/New_Delhi\", \"content\": \"Appearance\\\\n\\\\nmove to sidebar hide\\\\n\\\\nCoordinates: 28°36′50″N 77°12′32″E / 28.61389°N 77.20889°E / 28.61389; 77.20889\\\\n\\\\nImage 4: Page semi-protected\\\\n\\\\nFrom Wikipedia, the free encyclopedia\\\\n\\\\nCapital city of India\\\\n\\\\nThis article is about the capital of India, within the union territory of Delhi. For other uses, see New Delhi (disambiguation) \\\\\"New Delhi (disambiguation)\\\\\"). [...] New Delhi (/ˈ nj uː ˈ d ɛ.l i/ⓘ;( _\\\\\\\\_\\\\\\\\\\\\\\\\_Naī Dillī\\\\\\\\\\\\\\\\_\\\\\\\\__, pronounced( \\\\\"Help:IPA/Hindi and Urdu\\\\\")) is the capital of India and a part of the National Capital Territory of Delhi (NCT). New Delhi is the seat of all three branches of the Government of India, hosting the Rashtrapati Bhavan, Sansad Bhavan, and the Supreme Court. New Delhi is a municipality within the NCT, administered by the New Delhi Municipal Council (NDMC), which covers mostly Lutyens\\' Delhi and a few adjacent areas. The municipal [...] 8.   ^Stancati, Margherita (8 December 2011). \\\\\"New Delhi becomes the capital of Independent India\\\\\". _The Wall Street Journal_. Archived from the original on 13 December 2019. Retrieved 11 December 2011.\\\\n9.   ^\\\\\"86 years ago New Delhi took over as power capital of India\\\\\". _The Times of India_. Archived from the original on 1 March 2021. Retrieved 31 May 2018.\", \"score\": 0.9006087}, {\"title\": \"Where is the political capital of India? - Quora\", \"url\": \"https://www.quora.com/Where-is-the-political-capital-of-India\", \"content\": \"The political capital of India is New Delhi. It became the political capital on 13th February 1931. The foundation stone was laid by King George the fifth.\", \"score\": 0.87139857}, {\"title\": \"States and Capitals of India 2025: Complete List & Info\", \"url\": \"https://www.cheggindia.com/govt-exams/states-and-capitals/\", \"content\": \"Upon gaining independence in 1947, India was initially divided into 29 states and 7 union territories, each with its own administrative structure. The capital of India remained New Delhi, which was already an established center of governance during British rule.\\\\n\\\\n   New Delhi, which had replaced Calcutta as the capital of India in 1911, continued as the capital post-independence.\\\\n\\\\n#### Reorganization of States (1956) [...] Gujarat and Maharashtra were created in 1960, with Gandhinagar as the capital of Gujarat and Mumbai as the capital of Maharashtra.\\\\n   Haryana was created in 1966 with Chandigarh as its capital, which was also made the capital of Punjab.\\\\n   Nagaland became a state in 1963, with Kohima as its capital.\\\\n   Madhya Pradesh and Chhattisgarh were two other states formed after India’s independence, with Bhopal and Raipur as their capitals, respectively. [...] Before independence in 1947, India was under British colonial rule and was divided into provinces and princely states. The capitals during this time were primarily British-controlled cities like Calcutta (now Kolkata), which was the capital of British India, and Bombay (now Mumbai), Madras (now Chennai), and Delhi, which served as important administrative centers for the British colonial government.\\\\n\\\\n#### Post-Independence Era (1947)\", \"score\": 0.8458536}, {\"title\": \"Which City is Called the Political Capital of India? - Current Affairs\", \"url\": \"https://currentaffairs.adda247.com/which-city-is-called-the-political-capital-of-india/\", \"content\": \"Often referred to as the Political Capital of India, New Delhi is the hub of the country\\'s governance, administration, and diplomacy.\", \"score\": 0.838376}, {\"title\": \"New Delhi | History, Population, Map, & Facts - Britannica\", \"url\": \"https://www.britannica.com/place/New-Delhi\", \"content\": \"Image 19: New Delhi, India\\\\n\\\\nNew Delhi, India(more)\\\\n\\\\nNew Delhi, national capital of India. It is situated in the north-central part of the country on the west bank of the Yamuna River, adjacent to and just south of Delhi city (Old Delhi) and within the Delhi national capital territory. [...] Delhi, city and national capital, and union territory, north-central India. The city of Delhi actually consists of two components: Old Delhi, in the north, the historic city; and New Delhi, in the south, since 1947 the capital of India, built in the first part of the 20th century as the capital of British India.\\\\n\\\\nImage 45: Rashtrapati Bhavan and the Jaipur Column [...] In December 1911 King George V of Britain decreed that the capital of British India would be moved from Calcutta (now Kolkata) to Delhi. Construction began in 1912 at a site about 3 miles (5 km) south of the Delhi city centre, and the new capital was formally dedicated in 1931. The straight and diagonal pattern of the broad tree-lined avenues in New Delhi, with extensive green spaces and wide vistas, contrasts sharply with the crowded, narrow, and winding streets characteristic of Old Delhi.\", \"score\": 0.83093774}]', name='tavily_search_results_json', id='fa7f0a88-0b6b-4e3b-8284-f4c5afc76b8a', tool_call_id='5wthg33rv', artifact={'query': 'capital of india', 'follow_up_questions': None, 'answer': None, 'images': [], 'results': [{'url': 'https://en.wikipedia.org/wiki/New_Delhi', 'title': 'New Delhi - Wikipedia', 'content': 'Appearance\\n\\nmove to sidebar hide\\n\\nCoordinates: 28°36′50″N 77°12′32″E / 28.61389°N 77.20889°E / 28.61389; 77.20889\\n\\nImage 4: Page semi-protected\\n\\nFrom Wikipedia, the free encyclopedia\\n\\nCapital city of India\\n\\nThis article is about the capital of India, within the union territory of Delhi. For other uses, see New Delhi (disambiguation) \"New Delhi (disambiguation)\"). [...] New Delhi (/ˈ nj uː ˈ d ɛ.l i/ⓘ;( _\\\\_\\\\\\\\_Naī Dillī\\\\\\\\_\\\\__, pronounced( \"Help:IPA/Hindi and Urdu\")) is the capital of India and a part of the National Capital Territory of Delhi (NCT). New Delhi is the seat of all three branches of the Government of India, hosting the Rashtrapati Bhavan, Sansad Bhavan, and the Supreme Court. New Delhi is a municipality within the NCT, administered by the New Delhi Municipal Council (NDMC), which covers mostly Lutyens\\' Delhi and a few adjacent areas. The municipal [...] 8.   ^Stancati, Margherita (8 December 2011). \"New Delhi becomes the capital of Independent India\". _The Wall Street Journal_. Archived from the original on 13 December 2019. Retrieved 11 December 2011.\\n9.   ^\"86 years ago New Delhi took over as power capital of India\". _The Times of India_. Archived from the original on 1 March 2021. Retrieved 31 May 2018.', 'score': 0.9006087, 'raw_content': None}, {'url': 'https://www.quora.com/Where-is-the-political-capital-of-India', 'title': 'Where is the political capital of India? - Quora', 'content': 'The political capital of India is New Delhi. It became the political capital on 13th February 1931. The foundation stone was laid by King George the fifth.', 'score': 0.87139857, 'raw_content': None}, {'url': 'https://www.cheggindia.com/govt-exams/states-and-capitals/', 'title': 'States and Capitals of India 2025: Complete List & Info', 'content': 'Upon gaining independence in 1947, India was initially divided into 29 states and 7 union territories, each with its own administrative structure. The capital of India remained New Delhi, which was already an established center of governance during British rule.\\n\\n   New Delhi, which had replaced Calcutta as the capital of India in 1911, continued as the capital post-independence.\\n\\n#### Reorganization of States (1956) [...] Gujarat and Maharashtra were created in 1960, with Gandhinagar as the capital of Gujarat and Mumbai as the capital of Maharashtra.\\n   Haryana was created in 1966 with Chandigarh as its capital, which was also made the capital of Punjab.\\n   Nagaland became a state in 1963, with Kohima as its capital.\\n   Madhya Pradesh and Chhattisgarh were two other states formed after India’s independence, with Bhopal and Raipur as their capitals, respectively. [...] Before independence in 1947, India was under British colonial rule and was divided into provinces and princely states. The capitals during this time were primarily British-controlled cities like Calcutta (now Kolkata), which was the capital of British India, and Bombay (now Mumbai), Madras (now Chennai), and Delhi, which served as important administrative centers for the British colonial government.\\n\\n#### Post-Independence Era (1947)', 'score': 0.8458536, 'raw_content': None}, {'url': 'https://currentaffairs.adda247.com/which-city-is-called-the-political-capital-of-india/', 'title': 'Which City is Called the Political Capital of India? - Current Affairs', 'content': \"Often referred to as the Political Capital of India, New Delhi is the hub of the country's governance, administration, and diplomacy.\", 'score': 0.838376, 'raw_content': None}, {'url': 'https://www.britannica.com/place/New-Delhi', 'title': 'New Delhi | History, Population, Map, & Facts - Britannica', 'content': 'Image 19: New Delhi, India\\n\\nNew Delhi, India(more)\\n\\nNew Delhi, national capital of India. It is situated in the north-central part of the country on the west bank of the Yamuna River, adjacent to and just south of Delhi city (Old Delhi) and within the Delhi national capital territory. [...] Delhi, city and national capital, and union territory, north-central India. The city of Delhi actually consists of two components: Old Delhi, in the north, the historic city; and New Delhi, in the south, since 1947 the capital of India, built in the first part of the 20th century as the capital of British India.\\n\\nImage 45: Rashtrapati Bhavan and the Jaipur Column [...] In December 1911 King George V of Britain decreed that the capital of British India would be moved from Calcutta (now Kolkata) to Delhi. Construction began in 1912 at a site about 3 miles (5 km) south of the Delhi city centre, and the new capital was formally dedicated in 1931. The straight and diagonal pattern of the broad tree-lined avenues in New Delhi, with extensive green spaces and wide vistas, contrasts sharply with the crowded, narrow, and winding streets characteristic of Old Delhi.', 'score': 0.83093774, 'raw_content': None}], 'response_time': 5.64}), AIMessage(content='', additional_kwargs={'tool_calls': [{'id': '6tkdxfb4q', 'function': {'arguments': '{\"query\":\"New Delhi history\"}', 'name': 'tavily_search_results_json'}, 'type': 'function'}]}, response_metadata={'token_usage': {'completion_tokens': 49, 'prompt_tokens': 2394, 'total_tokens': 2443, 'completion_time': 0.089090909, 'prompt_time': 0.081112179, 'queue_time': 0.24831067299999998, 'total_time': 0.170203088}, 'model_name': 'Gemma2-9b-It', 'system_fingerprint': 'fp_10c08bf97d', 'finish_reason': 'tool_calls', 'logprobs': None}, id='run--b7eef33d-9f09-4977-a05f-f54d4969ecd5-0', tool_calls=[{'name': 'tavily_search_results_json', 'args': {'query': 'New Delhi history'}, 'id': '6tkdxfb4q', 'type': 'tool_call'}], usage_metadata={'input_tokens': 2394, 'output_tokens': 49, 'total_tokens': 2443}), HumanMessage(content='what is a weather there?', additional_kwargs={}, response_metadata={}, id='deeb9fa6-53b6-411c-9ab5-933cfcf43df4'), AIMessage(content='', additional_kwargs={'tool_calls': [{'id': '4ysz7e0jf', 'function': {'arguments': '{\"query\":\"weather in New Delhi\"}', 'name': 'tavily_search_results_json'}, 'type': 'function'}]}, response_metadata={'token_usage': {'completion_tokens': 55, 'prompt_tokens': 2459, 'total_tokens': 2514, 'completion_time': 0.1, 'prompt_time': 0.084059959, 'queue_time': 0.248076841, 'total_time': 0.184059959}, 'model_name': 'Gemma2-9b-It', 'system_fingerprint': 'fp_10c08bf97d', 'finish_reason': 'tool_calls', 'logprobs': None}, id='run--ae105210-de85-419b-bb94-e97cf1fa9a3e-0', tool_calls=[{'name': 'tavily_search_results_json', 'args': {'query': 'weather in New Delhi'}, 'id': '4ysz7e0jf', 'type': 'tool_call'}], usage_metadata={'input_tokens': 2459, 'output_tokens': 55, 'total_tokens': 2514}), ToolMessage(content='[{\"title\": \"New Delhi Weather Forecast 5 Jul 2025 - Times of India\", \"url\": \"https://timesofindia.indiatimes.com/weather/new-delhi-weather-forecast-today/110011\", \"content\": \"New Delhi Weather Forecast 5 Jul 2025 ; UV Index. 8 of 11 ; Humidity. 62 ; Max. Temp. 34 °C ; Min. Temp. 29 °C.\", \"score\": 0.9314689}, {\"title\": \"Warm start at 25.63 °C, check weather forecast for May 7, 2025\", \"url\": \"https://qa-www.hindustantimes.com/cities/delhi/delhi-weather-today-aqi-and-rain-forecast-updates-may-7-2025-101746581407243.html\", \"content\": \"The temperature in Delhi today, on May 7, 2025, is 30.09 °C. The day\\'s forecast indicates a minimum and maximum temperature of 25.63 °C and\", \"score\": 0.9205687}, {\"title\": \"Delhi Weather Forecast 2025 : Today\\'s Temperature, Hourly ... - NDTV\", \"url\": \"https://www.ndtv.com/weather/delhi-weather-forecast-today\", \"content\": \"Moderate rain with overall cloudy sky. Today, July 5, 2025. 29.5 °C. Max 36.0°C | Min 28.0°C. Feels like 37.2°C. Hourly Weather.\", \"score\": 0.89501935}, {\"title\": \"Weather New Delhi in July 2025: Temperature & Climate\", \"url\": \"https://en.climate-data.org/asia/india/delhi/new-delhi-30/t/july-7/\", \"content\": \"| 5. July | 31 °C | 88 °F | 35 °C | 96 °F | 27 °C | 81 °F | 4.8 mm | 0.2 inch. |\\\\n| 6. July | 31 °C | 88 °F | 36 °C | 96 °F | 27 °C | 81 °F | 4.8 mm | 0.2 inch. |\\\\n| 7. July | 31 °C | 88 °F | 36 °C | 96 °F | 27 °C | 81 °F | 5.1 mm | 0.2 inch. |\\\\n| 8. July | 31 °C | 88 °F | 35 °C | 95 °F | 27 °C | 81 °F | 3.8 mm | 0.1 inch. |\\\\n| 9. July | 31 °C | 87 °F | 35 °C | 95 °F | 27 °C | 81 °F | 5.2 mm | 0.2 inch. |\\\\n| 10. July | 31 °C | 87 °F | 35 °C | 94 °F | 27 °C | 81 °F | 6.1 mm | 0.2 inch. | [...] 13.5 °C\\\\n\\\\n(56.3) °F\\\\n\\\\n16.9 °C\\\\n\\\\n(62.4) °F\\\\n\\\\n22.5 °C\\\\n\\\\n(72.6) °F\\\\n\\\\n29.2 °C\\\\n\\\\n(84.5) °F\\\\n\\\\n32.7 °C\\\\n\\\\n(90.9) °F\\\\n\\\\n33 °C\\\\n\\\\n(91.3) °F\\\\n\\\\n29.9 °C\\\\n\\\\n(85.8) °F\\\\n\\\\n28.7 °C\\\\n\\\\n(83.7) °F\\\\n\\\\n27.8 °C\\\\n\\\\n(82.1) °F\\\\n\\\\n25.4 °C\\\\n\\\\n(77.7) °F\\\\n\\\\n20.5 °C\\\\n\\\\n(69) °F\\\\n\\\\n15.4 °C\\\\n\\\\n(59.7) °F\\\\n\\\\n7.7 °C\\\\n\\\\n(45.8) °F\\\\n\\\\n10.6 °C\\\\n\\\\n(51) °F\\\\n\\\\n15.2 °C\\\\n\\\\n(59.4) °F\\\\n\\\\n21 °C\\\\n\\\\n(69.8) °F\\\\n\\\\n25.3 °C\\\\n\\\\n(77.6) °F\\\\n\\\\n27.6 °C\\\\n\\\\n(81.6) °F\\\\n\\\\n26.6 °C\\\\n\\\\n(79.9) °F\\\\n\\\\n25.8 °C\\\\n\\\\n(78.5) °F\\\\n\\\\n23.9 °C\\\\n\\\\n(75.1) °F\\\\n\\\\n19.2 °C\\\\n\\\\n(66.5) °F\\\\n\\\\n14.2 °C\\\\n\\\\n(57.5) °F\\\\n\\\\n9.3 °C\\\\n\\\\n(48.7) °F\\\\n\\\\n20 °C\\\\n\\\\n(68) °F\\\\n\\\\n23.5 °C [...] | Min. Temperature °C (°F) | 7.7 °C  (45.8) °F | 10.6 °C  (51) °F | 15.2 °C  (59.4) °F | 21 °C  (69.8) °F | 25.3 °C  (77.6) °F | 27.6 °C  (81.6) °F | 26.6 °C  (79.9) °F | 25.8 °C  (78.5) °F | 23.9 °C  (75.1) °F | 19.2 °C  (66.5) °F | 14.2 °C  (57.5) °F | 9.3 °C  (48.7) °F |\", \"score\": 0.8747745}, {\"title\": \"New Delhi 5 July Weather. Forecast for New Delhi - India\", \"url\": \"https://globalmeteo.com/weather/new-delhi/jul-05/\", \"content\": \"New Delhi 5 July Weather. Climatic norm Jul 5. 81°. 90°. 98°. minimum. average. maximum. Friday, Jul 5 2024. Night. Morning. Afternoon. Evening ... 2025.\", \"score\": 0.85825616}]', name='tavily_search_results_json', id='301dc2e1-2229-4165-b242-493c02d9e6f3', tool_call_id='4ysz7e0jf', artifact={'query': 'weather in New Delhi', 'follow_up_questions': None, 'answer': None, 'images': [], 'results': [{'url': 'https://timesofindia.indiatimes.com/weather/new-delhi-weather-forecast-today/110011', 'title': 'New Delhi Weather Forecast 5 Jul 2025 - Times of India', 'content': 'New Delhi Weather Forecast 5 Jul 2025 ; UV Index. 8 of 11 ; Humidity. 62 ; Max. Temp. 34 °C ; Min. Temp. 29 °C.', 'score': 0.9314689, 'raw_content': None}, {'url': 'https://qa-www.hindustantimes.com/cities/delhi/delhi-weather-today-aqi-and-rain-forecast-updates-may-7-2025-101746581407243.html', 'title': 'Warm start at 25.63 °C, check weather forecast for May 7, 2025', 'content': \"The temperature in Delhi today, on May 7, 2025, is 30.09 °C. The day's forecast indicates a minimum and maximum temperature of 25.63 °C and\", 'score': 0.9205687, 'raw_content': None}, {'url': 'https://www.ndtv.com/weather/delhi-weather-forecast-today', 'title': \"Delhi Weather Forecast 2025 : Today's Temperature, Hourly ... - NDTV\", 'content': 'Moderate rain with overall cloudy sky. Today, July 5, 2025. 29.5 °C. Max 36.0°C | Min 28.0°C. Feels like 37.2°C. Hourly Weather.', 'score': 0.89501935, 'raw_content': None}, {'url': 'https://en.climate-data.org/asia/india/delhi/new-delhi-30/t/july-7/', 'title': 'Weather New Delhi in July 2025: Temperature & Climate', 'content': '| 5. July | 31 °C | 88 °F | 35 °C | 96 °F | 27 °C | 81 °F | 4.8 mm | 0.2 inch. |\\n| 6. July | 31 °C | 88 °F | 36 °C | 96 °F | 27 °C | 81 °F | 4.8 mm | 0.2 inch. |\\n| 7. July | 31 °C | 88 °F | 36 °C | 96 °F | 27 °C | 81 °F | 5.1 mm | 0.2 inch. |\\n| 8. July | 31 °C | 88 °F | 35 °C | 95 °F | 27 °C | 81 °F | 3.8 mm | 0.1 inch. |\\n| 9. July | 31 °C | 87 °F | 35 °C | 95 °F | 27 °C | 81 °F | 5.2 mm | 0.2 inch. |\\n| 10. July | 31 °C | 87 °F | 35 °C | 94 °F | 27 °C | 81 °F | 6.1 mm | 0.2 inch. | [...] 13.5 °C\\n\\n(56.3) °F\\n\\n16.9 °C\\n\\n(62.4) °F\\n\\n22.5 °C\\n\\n(72.6) °F\\n\\n29.2 °C\\n\\n(84.5) °F\\n\\n32.7 °C\\n\\n(90.9) °F\\n\\n33 °C\\n\\n(91.3) °F\\n\\n29.9 °C\\n\\n(85.8) °F\\n\\n28.7 °C\\n\\n(83.7) °F\\n\\n27.8 °C\\n\\n(82.1) °F\\n\\n25.4 °C\\n\\n(77.7) °F\\n\\n20.5 °C\\n\\n(69) °F\\n\\n15.4 °C\\n\\n(59.7) °F\\n\\n7.7 °C\\n\\n(45.8) °F\\n\\n10.6 °C\\n\\n(51) °F\\n\\n15.2 °C\\n\\n(59.4) °F\\n\\n21 °C\\n\\n(69.8) °F\\n\\n25.3 °C\\n\\n(77.6) °F\\n\\n27.6 °C\\n\\n(81.6) °F\\n\\n26.6 °C\\n\\n(79.9) °F\\n\\n25.8 °C\\n\\n(78.5) °F\\n\\n23.9 °C\\n\\n(75.1) °F\\n\\n19.2 °C\\n\\n(66.5) °F\\n\\n14.2 °C\\n\\n(57.5) °F\\n\\n9.3 °C\\n\\n(48.7) °F\\n\\n20 °C\\n\\n(68) °F\\n\\n23.5 °C [...] | Min. Temperature °C (°F) | 7.7 °C  (45.8) °F | 10.6 °C  (51) °F | 15.2 °C  (59.4) °F | 21 °C  (69.8) °F | 25.3 °C  (77.6) °F | 27.6 °C  (81.6) °F | 26.6 °C  (79.9) °F | 25.8 °C  (78.5) °F | 23.9 °C  (75.1) °F | 19.2 °C  (66.5) °F | 14.2 °C  (57.5) °F | 9.3 °C  (48.7) °F |', 'score': 0.8747745, 'raw_content': None}, {'url': 'https://globalmeteo.com/weather/new-delhi/jul-05/', 'title': 'New Delhi 5 July Weather. Forecast for New Delhi - India', 'content': 'New Delhi 5 July Weather. Climatic norm Jul 5. 81°. 90°. 98°. minimum. average. maximum. Friday, Jul 5 2024. Night. Morning. Afternoon. Evening ... 2025.', 'score': 0.85825616, 'raw_content': None}], 'response_time': 3.51}), AIMessage(content='It is 34 degrees Celsius and 29 degrees Celsius.', additional_kwargs={}, response_metadata={'token_usage': {'completion_tokens': 16, 'prompt_tokens': 4229, 'total_tokens': 4245, 'completion_time': 0.029090909, 'prompt_time': 0.141889347, 'queue_time': 0.24780874200000003, 'total_time': 0.170980256}, 'model_name': 'Gemma2-9b-It', 'system_fingerprint': 'fp_10c08bf97d', 'finish_reason': 'stop', 'logprobs': None}, id='run--55bfcda7-5457-4a5b-ac93-6d6c116959ab-0', usage_metadata={'input_tokens': 4229, 'output_tokens': 16, 'total_tokens': 4245})]}, next=(), config={'configurable': {'thread_id': '1', 'checkpoint_ns': '', 'checkpoint_id': '1f059a13-3931-6853-8008-e595ed28992d'}}, metadata={'source': 'loop', 'step': 8, 'parents': {}, 'thread_id': '1'}, created_at='2025-07-05T13:08:53.837013+00:00', parent_config={'configurable': {'thread_id': '1', 'checkpoint_ns': '', 'checkpoint_id': '1f059a13-33ed-6ea8-8007-3cf62bea2ab4'}}, tasks=(), interrupts=())"
      ]
     },
     "execution_count": 65,
     "metadata": {},
     "output_type": "execute_result"
    }
   ],
   "source": [
    "app2.get_state(config)\n"
   ]
  },
  {
   "cell_type": "code",
   "execution_count": 66,
   "id": "9f3ea2a8",
   "metadata": {},
   "outputs": [],
   "source": [
    "snapshot=app2.get_state(config)\n"
   ]
  },
  {
   "cell_type": "code",
   "execution_count": 67,
   "id": "5028eef0",
   "metadata": {},
   "outputs": [
    {
     "data": {
      "text/plain": [
       "()"
      ]
     },
     "execution_count": 67,
     "metadata": {},
     "output_type": "execute_result"
    }
   ],
   "source": [
    "\n",
    "snapshot.next"
   ]
  },
  {
   "cell_type": "code",
   "execution_count": 68,
   "id": "24677af5",
   "metadata": {},
   "outputs": [],
   "source": [
    "user_input = \"give me the recent news of it?\"\n",
    "\n",
    "config = {\"configurable\": {\"thread_id\": \"1\"}}\n",
    "     "
   ]
  },
  {
   "cell_type": "code",
   "execution_count": 69,
   "id": "fdf9a0a8",
   "metadata": {},
   "outputs": [],
   "source": [
    "for event in events:\n",
    "    if \"messages\" in event:\n",
    "        event[\"messages\"][-1].pretty_print()"
   ]
  },
  {
   "cell_type": "code",
   "execution_count": 70,
   "id": "a8c36cfa",
   "metadata": {},
   "outputs": [],
   "source": [
    "snapshot=app2.get_state(config)\n"
   ]
  },
  {
   "cell_type": "code",
   "execution_count": 71,
   "id": "afbb01f6",
   "metadata": {},
   "outputs": [],
   "source": [
    "current_message = snapshot.values[\"messages\"][-1]\n"
   ]
  },
  {
   "cell_type": "code",
   "execution_count": 72,
   "id": "32fb77a9",
   "metadata": {},
   "outputs": [
    {
     "name": "stdout",
     "output_type": "stream",
     "text": [
      "==================================\u001b[1m Ai Message \u001b[0m==================================\n",
      "\n",
      "It is 34 degrees Celsius and 29 degrees Celsius.\n"
     ]
    }
   ],
   "source": [
    "current_message.pretty_print()\n"
   ]
  },
  {
   "cell_type": "code",
   "execution_count": 74,
   "id": "ad92ff96",
   "metadata": {},
   "outputs": [],
   "source": [
    "from langchain_core.messages import AIMessage, ToolMessage\n"
   ]
  },
  {
   "cell_type": "code",
   "execution_count": 75,
   "id": "1c2a37d3",
   "metadata": {},
   "outputs": [],
   "source": [
    "answer = \"it is just related to raining which is happing on daily basis\"\n"
   ]
  },
  {
   "cell_type": "code",
   "execution_count": 77,
   "id": "9cdde7cf",
   "metadata": {},
   "outputs": [],
   "source": [
    "\n",
    "# new_messages = [\n",
    "#     ToolMessage(content=answer, tool_call_id=tool_call_id),\n",
    "#     AIMessage(content=answer),\n",
    "# ]"
   ]
  },
  {
   "cell_type": "code",
   "execution_count": null,
   "id": "e9e58743",
   "metadata": {},
   "outputs": [],
   "source": [
    "# print(app2.get_state(config).values[\"messages\"][-1:])\n"
   ]
  }
 ],
 "metadata": {
  "kernelspec": {
   "display_name": "Python 3",
   "language": "python",
   "name": "python3"
  },
  "language_info": {
   "codemirror_mode": {
    "name": "ipython",
    "version": 3
   },
   "file_extension": ".py",
   "mimetype": "text/x-python",
   "name": "python",
   "nbconvert_exporter": "python",
   "pygments_lexer": "ipython3",
   "version": "3.10.18"
  }
 },
 "nbformat": 4,
 "nbformat_minor": 5
}
